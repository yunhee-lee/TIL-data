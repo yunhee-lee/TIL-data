{
 "cells": [
  {
   "cell_type": "code",
   "execution_count": 2,
   "id": "5a6992b5",
   "metadata": {},
   "outputs": [],
   "source": [
    "import numpy as np\n",
    "import pandas as pd\n",
    "\n",
    "df = pd.read_csv(\"./data/SURVEY.csv\")"
   ]
  },
  {
   "cell_type": "code",
   "execution_count": 4,
   "id": "fa6ab881",
   "metadata": {},
   "outputs": [
    {
     "data": {
      "text/html": [
       "<div>\n",
       "<style scoped>\n",
       "    .dataframe tbody tr th:only-of-type {\n",
       "        vertical-align: middle;\n",
       "    }\n",
       "\n",
       "    .dataframe tbody tr th {\n",
       "        vertical-align: top;\n",
       "    }\n",
       "\n",
       "    .dataframe thead th {\n",
       "        text-align: right;\n",
       "    }\n",
       "</style>\n",
       "<table border=\"1\" class=\"dataframe\">\n",
       "  <thead>\n",
       "    <tr style=\"text-align: right;\">\n",
       "      <th></th>\n",
       "      <th>ORDER_ID</th>\n",
       "      <th>DELIVERY_TIME</th>\n",
       "      <th>BASKET_TIME</th>\n",
       "      <th>COMP_NUM</th>\n",
       "      <th>TIME_ON_WEBSITE</th>\n",
       "      <th>GIFT_OR_NOT</th>\n",
       "      <th>SALE_OR_NOT</th>\n",
       "      <th>SATISFACTION</th>\n",
       "    </tr>\n",
       "  </thead>\n",
       "  <tbody>\n",
       "    <tr>\n",
       "      <th>0</th>\n",
       "      <td>Z0000000001</td>\n",
       "      <td>24.0</td>\n",
       "      <td>73.8</td>\n",
       "      <td>8</td>\n",
       "      <td>31.3</td>\n",
       "      <td>0</td>\n",
       "      <td>1</td>\n",
       "      <td>5</td>\n",
       "    </tr>\n",
       "    <tr>\n",
       "      <th>1</th>\n",
       "      <td>Z0000000002</td>\n",
       "      <td>24.0</td>\n",
       "      <td>6.1</td>\n",
       "      <td>3</td>\n",
       "      <td>32.2</td>\n",
       "      <td>0</td>\n",
       "      <td>0</td>\n",
       "      <td>5</td>\n",
       "    </tr>\n",
       "    <tr>\n",
       "      <th>2</th>\n",
       "      <td>Z0000000003</td>\n",
       "      <td>34.4</td>\n",
       "      <td>76.3</td>\n",
       "      <td>3</td>\n",
       "      <td>11.9</td>\n",
       "      <td>0</td>\n",
       "      <td>0</td>\n",
       "      <td>5</td>\n",
       "    </tr>\n",
       "    <tr>\n",
       "      <th>3</th>\n",
       "      <td>Z0000000004</td>\n",
       "      <td>29.1</td>\n",
       "      <td>7.1</td>\n",
       "      <td>8</td>\n",
       "      <td>10.1</td>\n",
       "      <td>0</td>\n",
       "      <td>1</td>\n",
       "      <td>5</td>\n",
       "    </tr>\n",
       "    <tr>\n",
       "      <th>4</th>\n",
       "      <td>Z0000000005</td>\n",
       "      <td>24.0</td>\n",
       "      <td>3.5</td>\n",
       "      <td>4</td>\n",
       "      <td>18.0</td>\n",
       "      <td>0</td>\n",
       "      <td>0</td>\n",
       "      <td>5</td>\n",
       "    </tr>\n",
       "    <tr>\n",
       "      <th>5</th>\n",
       "      <td>Z0000000006</td>\n",
       "      <td>24.0</td>\n",
       "      <td>19.8</td>\n",
       "      <td>5</td>\n",
       "      <td>56.8</td>\n",
       "      <td>0</td>\n",
       "      <td>1</td>\n",
       "      <td>3</td>\n",
       "    </tr>\n",
       "    <tr>\n",
       "      <th>6</th>\n",
       "      <td>Z0000000007</td>\n",
       "      <td>25.8</td>\n",
       "      <td>77.6</td>\n",
       "      <td>1</td>\n",
       "      <td>53.8</td>\n",
       "      <td>0</td>\n",
       "      <td>0</td>\n",
       "      <td>3</td>\n",
       "    </tr>\n",
       "    <tr>\n",
       "      <th>7</th>\n",
       "      <td>Z0000000008</td>\n",
       "      <td>27.7</td>\n",
       "      <td>6.1</td>\n",
       "      <td>8</td>\n",
       "      <td>5.2</td>\n",
       "      <td>0</td>\n",
       "      <td>0</td>\n",
       "      <td>5</td>\n",
       "    </tr>\n",
       "    <tr>\n",
       "      <th>8</th>\n",
       "      <td>Z0000000009</td>\n",
       "      <td>24.0</td>\n",
       "      <td>1.3</td>\n",
       "      <td>5</td>\n",
       "      <td>7.4</td>\n",
       "      <td>0</td>\n",
       "      <td>0</td>\n",
       "      <td>5</td>\n",
       "    </tr>\n",
       "    <tr>\n",
       "      <th>9</th>\n",
       "      <td>Z0000000010</td>\n",
       "      <td>24.0</td>\n",
       "      <td>1.7</td>\n",
       "      <td>7</td>\n",
       "      <td>45.9</td>\n",
       "      <td>0</td>\n",
       "      <td>0</td>\n",
       "      <td>5</td>\n",
       "    </tr>\n",
       "  </tbody>\n",
       "</table>\n",
       "</div>"
      ],
      "text/plain": [
       "      ORDER_ID  DELIVERY_TIME  BASKET_TIME  COMP_NUM  TIME_ON_WEBSITE  \\\n",
       "0  Z0000000001           24.0         73.8         8             31.3   \n",
       "1  Z0000000002           24.0          6.1         3             32.2   \n",
       "2  Z0000000003           34.4         76.3         3             11.9   \n",
       "3  Z0000000004           29.1          7.1         8             10.1   \n",
       "4  Z0000000005           24.0          3.5         4             18.0   \n",
       "5  Z0000000006           24.0         19.8         5             56.8   \n",
       "6  Z0000000007           25.8         77.6         1             53.8   \n",
       "7  Z0000000008           27.7          6.1         8              5.2   \n",
       "8  Z0000000009           24.0          1.3         5              7.4   \n",
       "9  Z0000000010           24.0          1.7         7             45.9   \n",
       "\n",
       "   GIFT_OR_NOT  SALE_OR_NOT  SATISFACTION  \n",
       "0            0            1             5  \n",
       "1            0            0             5  \n",
       "2            0            0             5  \n",
       "3            0            1             5  \n",
       "4            0            0             5  \n",
       "5            0            1             3  \n",
       "6            0            0             3  \n",
       "7            0            0             5  \n",
       "8            0            0             5  \n",
       "9            0            0             5  "
      ]
     },
     "execution_count": 4,
     "metadata": {},
     "output_type": "execute_result"
    }
   ],
   "source": [
    "df.head(10)\n",
    "# 분석 Target = SATISFACTION (만족도)"
   ]
  },
  {
   "cell_type": "code",
   "execution_count": 11,
   "id": "3213e4f7",
   "metadata": {},
   "outputs": [],
   "source": [
    "X = df[['DELIVERY_TIME', 'BASKET_TIME', 'COMP_NUM', 'TIME_ON_WEBSITE', 'GIFT_OR_NOT', 'SALE_OR_NOT']]\n",
    "y = df['SATISFACTION']"
   ]
  },
  {
   "cell_type": "code",
   "execution_count": 12,
   "id": "753477ee",
   "metadata": {},
   "outputs": [],
   "source": [
    "from sklearn.model_selection import train_test_split\n",
    "\n",
    "X_tn, X_te, y_tn, y_te = train_test_split(X, y, random_state = 0)\n",
    "# random_state는 일종의 Seed 값으로, 임의의 정수를 사용하면 됨"
   ]
  },
  {
   "cell_type": "code",
   "execution_count": 16,
   "id": "3dd97951",
   "metadata": {},
   "outputs": [],
   "source": [
    "# 데이터 표준화\n",
    "from sklearn.preprocessing import StandardScaler\n",
    "\n",
    "std_scale = StandardScaler()\n",
    "std_scale.fit(X_tn)\n",
    "# X 전체를 사용하면 Test Data도 평균과 표준편차를 구하는 데에 사용하는 것이기 때문에 제외\n",
    "X_tn_std = std_scale.transform(X_tn)\n",
    "X_te_std = std_scale.transform(X_te)"
   ]
  },
  {
   "cell_type": "code",
   "execution_count": 23,
   "id": "ebf7fa77",
   "metadata": {},
   "outputs": [
    {
     "data": {
      "text/html": [
       "<div>\n",
       "<style scoped>\n",
       "    .dataframe tbody tr th:only-of-type {\n",
       "        vertical-align: middle;\n",
       "    }\n",
       "\n",
       "    .dataframe tbody tr th {\n",
       "        vertical-align: top;\n",
       "    }\n",
       "\n",
       "    .dataframe thead th {\n",
       "        text-align: right;\n",
       "    }\n",
       "</style>\n",
       "<table border=\"1\" class=\"dataframe\">\n",
       "  <thead>\n",
       "    <tr style=\"text-align: right;\">\n",
       "      <th></th>\n",
       "      <th>0</th>\n",
       "      <th>1</th>\n",
       "      <th>2</th>\n",
       "      <th>3</th>\n",
       "      <th>4</th>\n",
       "      <th>5</th>\n",
       "    </tr>\n",
       "  </thead>\n",
       "  <tbody>\n",
       "    <tr>\n",
       "      <th>0</th>\n",
       "      <td>0.643065</td>\n",
       "      <td>-0.576863</td>\n",
       "      <td>-1.208729</td>\n",
       "      <td>1.066071</td>\n",
       "      <td>-0.343529</td>\n",
       "      <td>-0.724861</td>\n",
       "    </tr>\n",
       "    <tr>\n",
       "      <th>1</th>\n",
       "      <td>5.616310</td>\n",
       "      <td>-0.189033</td>\n",
       "      <td>1.371167</td>\n",
       "      <td>-0.907170</td>\n",
       "      <td>-0.343529</td>\n",
       "      <td>1.379575</td>\n",
       "    </tr>\n",
       "    <tr>\n",
       "      <th>2</th>\n",
       "      <td>-0.422630</td>\n",
       "      <td>-0.477331</td>\n",
       "      <td>-0.348764</td>\n",
       "      <td>-0.620627</td>\n",
       "      <td>2.910959</td>\n",
       "      <td>-0.724861</td>\n",
       "    </tr>\n",
       "    <tr>\n",
       "      <th>3</th>\n",
       "      <td>0.427773</td>\n",
       "      <td>-0.624913</td>\n",
       "      <td>-0.778746</td>\n",
       "      <td>-0.373157</td>\n",
       "      <td>-0.343529</td>\n",
       "      <td>-0.724861</td>\n",
       "    </tr>\n",
       "    <tr>\n",
       "      <th>4</th>\n",
       "      <td>-0.422630</td>\n",
       "      <td>-0.755333</td>\n",
       "      <td>0.511202</td>\n",
       "      <td>1.320053</td>\n",
       "      <td>-0.343529</td>\n",
       "      <td>1.379575</td>\n",
       "    </tr>\n",
       "    <tr>\n",
       "      <th>5</th>\n",
       "      <td>-0.422630</td>\n",
       "      <td>2.508612</td>\n",
       "      <td>-0.778746</td>\n",
       "      <td>0.636256</td>\n",
       "      <td>-0.343529</td>\n",
       "      <td>-0.724861</td>\n",
       "    </tr>\n",
       "    <tr>\n",
       "      <th>6</th>\n",
       "      <td>-0.314984</td>\n",
       "      <td>1.575076</td>\n",
       "      <td>-0.778746</td>\n",
       "      <td>-0.711800</td>\n",
       "      <td>2.910959</td>\n",
       "      <td>-0.724861</td>\n",
       "    </tr>\n",
       "    <tr>\n",
       "      <th>7</th>\n",
       "      <td>-0.422630</td>\n",
       "      <td>-0.837704</td>\n",
       "      <td>0.941184</td>\n",
       "      <td>-0.080102</td>\n",
       "      <td>-0.343529</td>\n",
       "      <td>-0.724861</td>\n",
       "    </tr>\n",
       "    <tr>\n",
       "      <th>8</th>\n",
       "      <td>-0.390336</td>\n",
       "      <td>-0.834272</td>\n",
       "      <td>0.081219</td>\n",
       "      <td>-0.457818</td>\n",
       "      <td>-0.343529</td>\n",
       "      <td>-0.724861</td>\n",
       "    </tr>\n",
       "    <tr>\n",
       "      <th>9</th>\n",
       "      <td>-0.422630</td>\n",
       "      <td>0.075240</td>\n",
       "      <td>-0.778746</td>\n",
       "      <td>-0.685750</td>\n",
       "      <td>-0.343529</td>\n",
       "      <td>-0.724861</td>\n",
       "    </tr>\n",
       "  </tbody>\n",
       "</table>\n",
       "</div>"
      ],
      "text/plain": [
       "          0         1         2         3         4         5\n",
       "0  0.643065 -0.576863 -1.208729  1.066071 -0.343529 -0.724861\n",
       "1  5.616310 -0.189033  1.371167 -0.907170 -0.343529  1.379575\n",
       "2 -0.422630 -0.477331 -0.348764 -0.620627  2.910959 -0.724861\n",
       "3  0.427773 -0.624913 -0.778746 -0.373157 -0.343529 -0.724861\n",
       "4 -0.422630 -0.755333  0.511202  1.320053 -0.343529  1.379575\n",
       "5 -0.422630  2.508612 -0.778746  0.636256 -0.343529 -0.724861\n",
       "6 -0.314984  1.575076 -0.778746 -0.711800  2.910959 -0.724861\n",
       "7 -0.422630 -0.837704  0.941184 -0.080102 -0.343529 -0.724861\n",
       "8 -0.390336 -0.834272  0.081219 -0.457818 -0.343529 -0.724861\n",
       "9 -0.422630  0.075240 -0.778746 -0.685750 -0.343529 -0.724861"
      ]
     },
     "execution_count": 23,
     "metadata": {},
     "output_type": "execute_result"
    }
   ],
   "source": [
    "pd.DataFrame(X_tn_std).head(10)"
   ]
  },
  {
   "cell_type": "markdown",
   "id": "83bd9489",
   "metadata": {},
   "source": [
    "## 선형 회귀분석"
   ]
  },
  {
   "cell_type": "code",
   "execution_count": 24,
   "id": "cf69f29f",
   "metadata": {},
   "outputs": [
    {
     "data": {
      "text/plain": [
       "LinearRegression()"
      ]
     },
     "execution_count": 24,
     "metadata": {},
     "output_type": "execute_result"
    }
   ],
   "source": [
    "from sklearn.linear_model import LinearRegression \n",
    "\n",
    "clf_lr =  LinearRegression()\n",
    "clf_lr.fit(X_tn_std, y_tn)"
   ]
  },
  {
   "cell_type": "code",
   "execution_count": 25,
   "id": "952c6805",
   "metadata": {},
   "outputs": [
    {
     "name": "stdout",
     "output_type": "stream",
     "text": [
      "[-4.96015522e-01  1.74008222e-01  1.36257321e-01 -1.86985734e-01\n",
      " -8.04685447e-02  1.29928118e-04]\n",
      "4.561111111111111\n"
     ]
    }
   ],
   "source": [
    "print(clf_lr.coef_) # 계수\n",
    "print(clf_lr.intercept_) # 절편\n",
    "\n",
    "# Delivery Time이 가장 큰 영향을 줌을 알 수 있음"
   ]
  },
  {
   "cell_type": "code",
   "execution_count": 26,
   "id": "0cf93187",
   "metadata": {},
   "outputs": [
    {
     "name": "stdout",
     "output_type": "stream",
     "text": [
      "[ 3.91562071  4.74220138  4.49285818  4.96338708  4.37551961 -2.47720353\n",
      "  4.39449628  4.80974568  4.83644633  4.79598066  4.33491768  3.92913951\n",
      "  3.27002704  5.29628631  5.19479389  3.8183336   4.77170443  4.4277418\n",
      "  5.00333325  4.82154539  4.53593592  4.99337763  4.8794698   4.57238778\n",
      "  4.33075227  4.66949512  4.97365161  4.73955374  4.33291493  2.14929731\n",
      "  4.25961062  4.55229875  4.12392361  5.21206988  4.84167899  4.64044049\n",
      "  4.76614821  3.82462177  4.76987398  4.83666399  4.84767087  4.61886574\n",
      "  4.97314489  4.14362279  5.3096554   4.84732272  4.65544872  4.8552083\n",
      "  4.76530784  4.95327987  4.3395061   4.57684869  4.87620529  4.36836187\n",
      "  4.61384511  4.48588535  4.90418245  4.36758908  4.53967559  3.95655   ]\n"
     ]
    }
   ],
   "source": [
    "# 예측\n",
    "pred_lr = clf_lr.predict(X_te_std)\n",
    "print(pred_lr)"
   ]
  },
  {
   "cell_type": "code",
   "execution_count": 28,
   "id": "c9d602b8",
   "metadata": {},
   "outputs": [
    {
     "name": "stdout",
     "output_type": "stream",
     "text": [
      "0.20184310997489274\n"
     ]
    }
   ],
   "source": [
    "# 모형 평가 - R 제곱값\n",
    "# 모형의 설명력을 나타내는 값\n",
    "from sklearn.metrics import r2_score\n",
    "print(r2_score(y_te, pred_lr))"
   ]
  },
  {
   "cell_type": "code",
   "execution_count": 29,
   "id": "76dec62b",
   "metadata": {},
   "outputs": [
    {
     "name": "stdout",
     "output_type": "stream",
     "text": [
      "0.7048168759416156\n"
     ]
    }
   ],
   "source": [
    "from sklearn.metrics import mean_squared_error\n",
    "print(mean_squared_error(y_te, pred_lr))"
   ]
  },
  {
   "cell_type": "markdown",
   "id": "02f993b9",
   "metadata": {},
   "source": [
    "## 로지스틱 회귀분석"
   ]
  },
  {
   "cell_type": "code",
   "execution_count": 30,
   "id": "70304b63",
   "metadata": {},
   "outputs": [
    {
     "data": {
      "text/plain": [
       "LogisticRegression()"
      ]
     },
     "execution_count": 30,
     "metadata": {},
     "output_type": "execute_result"
    }
   ],
   "source": [
    "from sklearn.linear_model import LogisticRegression\n",
    "\n",
    "clf_logi_l2 = LogisticRegression()\n",
    "clf_logi_l2.fit(X_tn_std, y_tn)"
   ]
  },
  {
   "cell_type": "code",
   "execution_count": 32,
   "id": "a8a0fe8a",
   "metadata": {},
   "outputs": [
    {
     "name": "stdout",
     "output_type": "stream",
     "text": [
      "[[ 1.21345986 -0.12435226 -0.22928957 -0.53676118 -0.17280063  0.25406188]\n",
      " [ 0.51114456 -0.40605131 -0.32023245  0.23322263 -0.24100443  0.05709334]\n",
      " [ 0.00965802  0.35318731 -0.13517388  0.24259343  0.42360291 -0.21502064]\n",
      " [-0.69562283 -0.82734054  0.27854622  0.4568836  -0.03858163 -0.0720666 ]\n",
      " [-1.03863962  1.0045568   0.40614968 -0.39593848  0.02878378 -0.02406797]]\n",
      "[-4.38918952 -1.31203617  1.60818671  0.44971389  3.64332509]\n"
     ]
    }
   ],
   "source": [
    "# 로지스틱 회귀분석 모형 추정 계수\n",
    "print(clf_logi_l2.coef_)\n",
    "print(clf_logi_l2.intercept_)"
   ]
  },
  {
   "cell_type": "code",
   "execution_count": 33,
   "id": "f3b2003b",
   "metadata": {},
   "outputs": [
    {
     "name": "stdout",
     "output_type": "stream",
     "text": [
      "[5 5 5 5 5 1 5 5 5 5 5 3 3 5 5 3 5 5 5 5 5 5 5 5 5 5 5 5 5 1 5 5 5 5 5 5 5\n",
      " 5 5 5 5 5 5 5 5 5 5 5 5 5 5 5 5 5 5 5 5 5 5 5]\n"
     ]
    }
   ],
   "source": [
    "pred_logistic = clf_logi_l2.predict(X_te_std)\n",
    "print(pred_logistic)"
   ]
  },
  {
   "cell_type": "code",
   "execution_count": 34,
   "id": "d4fe005b",
   "metadata": {},
   "outputs": [
    {
     "name": "stdout",
     "output_type": "stream",
     "text": [
      "[[7.73616092e-04 2.51920953e-03 4.10700982e-01 2.93583387e-03\n",
      "  5.83070358e-01]\n",
      " [3.16367438e-04 4.21762193e-03 5.69590079e-02 1.16711649e-02\n",
      "  9.26835838e-01]\n",
      " [8.05953208e-04 9.89066178e-03 1.26654529e-01 2.87691271e-02\n",
      "  8.33879729e-01]\n",
      " [1.19165573e-04 2.05198975e-03 2.83028480e-02 2.66804691e-02\n",
      "  9.42845528e-01]\n",
      " [1.01538475e-03 7.18688685e-03 1.32822937e-01 8.12942998e-03\n",
      "  8.50845361e-01]\n",
      " [9.99210038e-01 7.85916069e-04 4.04522261e-06 2.83036758e-10\n",
      "  1.57357635e-11]\n",
      " [2.22176975e-04 1.91816846e-02 2.10666711e-01 1.91989359e-01\n",
      "  5.77940069e-01]\n",
      " [3.84284944e-04 5.53299686e-03 4.41866384e-02 5.40899194e-02\n",
      "  8.95806160e-01]\n",
      " [1.78383934e-04 3.46886390e-03 3.95511377e-02 4.40334651e-02\n",
      "  9.12768149e-01]\n",
      " [2.14356135e-04 3.88916208e-03 4.84126543e-02 2.56353609e-02\n",
      "  9.21848467e-01]\n",
      " [7.96912021e-04 3.92600327e-02 1.92261000e-01 1.77780438e-01\n",
      "  5.89901617e-01]\n",
      " [8.35121979e-05 6.90404944e-03 6.87407043e-01 4.99052350e-02\n",
      "  2.55700161e-01]\n",
      " [6.69236104e-03 2.34781278e-02 7.43641440e-01 1.13489945e-02\n",
      "  2.14839077e-01]\n",
      " [8.74424124e-06 4.94746826e-05 1.14109820e-02 3.10754342e-05\n",
      "  9.88499724e-01]\n",
      " [1.07076567e-05 1.96751537e-04 1.74519525e-02 1.59744218e-03\n",
      "  9.80743146e-01]\n",
      " [1.19654963e-02 1.09574376e-01 4.33755155e-01 6.03986625e-02\n",
      "  3.84306310e-01]\n",
      " [2.76522182e-04 6.56729852e-03 5.26777805e-02 8.81620949e-02\n",
      "  8.52316304e-01]\n",
      " [8.09184042e-05 1.12397642e-02 1.59521779e-01 2.87977379e-01\n",
      "  5.41180159e-01]\n",
      " [9.73460988e-05 1.29072914e-03 2.59274269e-02 7.14746834e-03\n",
      "  9.65537030e-01]\n",
      " [2.48799842e-04 5.70110169e-03 6.91706772e-02 6.95842678e-02\n",
      "  8.55295153e-01]\n",
      " [4.59021882e-04 1.64690783e-02 1.76101567e-01 7.09023182e-02\n",
      "  7.36068015e-01]\n",
      " [3.90151049e-05 8.10916270e-04 3.94917456e-02 3.77059247e-03\n",
      "  9.55887731e-01]\n",
      " [1.55360599e-04 2.85560549e-03 6.17561192e-02 1.37323920e-02\n",
      "  9.21500523e-01]\n",
      " [4.49436122e-04 1.35421861e-02 1.59158069e-01 5.10312682e-02\n",
      "  7.75819041e-01]\n",
      " [9.76170075e-05 1.47141070e-02 1.68055989e-01 2.15061121e-01\n",
      "  6.02071167e-01]\n",
      " [2.02917500e-04 8.32084882e-03 1.03267981e-01 1.16331858e-01\n",
      "  7.71876395e-01]\n",
      " [1.96061091e-04 2.27930693e-03 2.92939038e-02 1.48098272e-02\n",
      "  9.53420901e-01]\n",
      " [5.97057563e-05 8.12861346e-04 7.95089265e-02 3.98965925e-02\n",
      "  8.79721914e-01]\n",
      " [2.17473665e-03 4.60159959e-02 1.91519867e-01 9.50697770e-02\n",
      "  6.65219623e-01]\n",
      " [6.00966332e-01 1.86601596e-01 1.94036559e-01 4.69615302e-03\n",
      "  1.36993593e-02]\n",
      " [1.49312443e-03 2.67398948e-02 1.98086729e-01 1.21908717e-01\n",
      "  6.51771535e-01]\n",
      " [1.29400291e-04 6.06596007e-03 9.62352004e-02 1.53842942e-01\n",
      "  7.43726497e-01]\n",
      " [2.22078541e-04 2.05044206e-02 2.94051760e-01 1.61457294e-01\n",
      "  5.23764447e-01]\n",
      " [2.40782003e-05 3.14762459e-04 1.80787813e-02 2.20847336e-03\n",
      "  9.79373905e-01]\n",
      " [1.25438630e-04 3.06906018e-03 4.30071166e-02 3.24248236e-02\n",
      "  9.21373561e-01]\n",
      " [2.05770909e-04 8.93433989e-03 1.19232377e-01 9.31344346e-02\n",
      "  7.78493078e-01]\n",
      " [1.84030767e-04 3.47200665e-03 5.41876016e-02 6.68734041e-02\n",
      "  8.75282957e-01]\n",
      " [2.74131890e-02 3.01558014e-02 1.56257154e-01 1.37877782e-02\n",
      "  7.72386078e-01]\n",
      " [1.48128326e-04 2.30553440e-03 5.26312911e-02 2.32041882e-02\n",
      "  9.21710858e-01]\n",
      " [2.58919372e-05 3.59834937e-04 8.66834036e-02 1.29711712e-02\n",
      "  8.99959698e-01]\n",
      " [9.93128687e-05 3.68128246e-03 5.53548981e-02 1.17366532e-01\n",
      "  8.23497974e-01]\n",
      " [2.07864317e-04 9.38503970e-03 1.15364497e-01 1.28628056e-01\n",
      "  7.46414543e-01]\n",
      " [2.24677113e-05 1.91223495e-04 2.58642067e-02 1.99377339e-04\n",
      "  9.73722725e-01]\n",
      " [5.57107840e-04 7.14284848e-03 4.62248792e-01 3.91373177e-02\n",
      "  4.90913934e-01]\n",
      " [1.22233427e-05 1.52383153e-04 1.23762652e-02 1.22517108e-03\n",
      "  9.86233957e-01]\n",
      " [1.42018156e-05 2.28202434e-04 7.70734392e-02 9.25698085e-03\n",
      "  9.13427176e-01]\n",
      " [3.66281595e-04 5.44440103e-03 8.64255695e-02 2.75848954e-02\n",
      "  8.80178852e-01]\n",
      " [2.40822533e-04 3.17183323e-03 4.52834571e-02 4.68284224e-02\n",
      "  9.04475465e-01]\n",
      " [1.62737065e-05 3.00122378e-04 1.12291896e-01 5.40012622e-03\n",
      "  8.81991581e-01]\n",
      " [1.20277023e-04 2.61358286e-03 4.31762433e-02 5.03207612e-02\n",
      "  9.03769136e-01]\n",
      " [1.24687065e-03 2.56717295e-02 1.43764455e-01 1.04999202e-01\n",
      "  7.24317743e-01]\n",
      " [1.62520478e-04 8.90643028e-03 1.49062947e-01 6.63255179e-02\n",
      "  7.75542584e-01]\n",
      " [1.38106503e-04 3.42429688e-03 5.64220858e-02 4.99580783e-02\n",
      "  8.90057432e-01]\n",
      " [2.50676173e-05 1.22146241e-03 3.17324352e-01 2.19928873e-02\n",
      "  6.59436231e-01]\n",
      " [2.57046429e-04 1.12338733e-02 1.25157553e-01 1.27149653e-01\n",
      "  7.36201875e-01]\n",
      " [1.02773532e-04 1.09348070e-02 1.40789800e-01 2.73965892e-01\n",
      "  5.74206728e-01]\n",
      " [1.02197303e-04 2.30151902e-03 3.18855538e-02 4.10503093e-02\n",
      "  9.24660421e-01]\n",
      " [9.33935541e-05 3.09235842e-03 3.19998446e-01 7.98999768e-02\n",
      "  5.96915825e-01]\n",
      " [3.23703211e-04 1.31534706e-02 1.16161582e-01 7.95582824e-02\n",
      "  7.90802962e-01]\n",
      " [5.67100402e-03 3.47530167e-02 3.10577514e-01 2.01492118e-02\n",
      "  6.28849253e-01]]\n"
     ]
    }
   ],
   "source": [
    "# 확률 값으로 예측\n",
    "pred_proba = clf_logi_l2.predict_proba(X_te_std)\n",
    "print(pred_proba)"
   ]
  },
  {
   "cell_type": "code",
   "execution_count": 35,
   "id": "2eea5c42",
   "metadata": {},
   "outputs": [
    {
     "name": "stdout",
     "output_type": "stream",
     "text": [
      "0.7833333333333333\n"
     ]
    }
   ],
   "source": [
    "from sklearn.metrics import accuracy_score\n",
    "accuracy = accuracy_score(y_te, pred_logistic)\n",
    "\n",
    "print(accuracy)\n",
    "# 예측 값이 정수이기 때문에 정확도를 구할 수 있음"
   ]
  },
  {
   "cell_type": "code",
   "execution_count": 36,
   "id": "dcdf445c",
   "metadata": {},
   "outputs": [
    {
     "name": "stdout",
     "output_type": "stream",
     "text": [
      "[[ 1  0  0  0  0]\n",
      " [ 1  0  0  0  0]\n",
      " [ 0  0  1  0  9]\n",
      " [ 0  0  1  0  1]\n",
      " [ 0  0  1  0 45]]\n"
     ]
    }
   ],
   "source": [
    "from sklearn.metrics import confusion_matrix\n",
    "conf_matrix = confusion_matrix(y_te, pred_logistic)\n",
    "print(conf_matrix)"
   ]
  },
  {
   "cell_type": "markdown",
   "id": "fe7da963",
   "metadata": {},
   "source": [
    "## Random Forest"
   ]
  },
  {
   "cell_type": "code",
   "execution_count": 37,
   "id": "9c15c06d",
   "metadata": {},
   "outputs": [
    {
     "data": {
      "text/plain": [
       "RandomForestClassifier(max_depth=2, random_state=1225)"
      ]
     },
     "execution_count": 37,
     "metadata": {},
     "output_type": "execute_result"
    }
   ],
   "source": [
    "from sklearn.ensemble import RandomForestClassifier\n",
    "clf_rf = RandomForestClassifier(max_depth = 2, random_state = 1225)\n",
    "clf_rf.fit(X_tn_std, y_tn)"
   ]
  },
  {
   "cell_type": "code",
   "execution_count": 38,
   "id": "096cb2e3",
   "metadata": {},
   "outputs": [
    {
     "name": "stdout",
     "output_type": "stream",
     "text": [
      "[5 5 5 5 5 5 5 5 5 5 3 5 5 5 5 5 5 5 5 5 5 5 5 5 5 5 5 5 5 5 5 5 5 5 5 5 5\n",
      " 5 5 5 5 5 5 5 5 5 5 5 5 5 5 5 5 5 5 5 5 5 5 5]\n"
     ]
    }
   ],
   "source": [
    "# 예측\n",
    "pred_rf = clf_rf.predict(X_te_std)\n",
    "print(pred_rf)"
   ]
  },
  {
   "cell_type": "code",
   "execution_count": 39,
   "id": "243f7385",
   "metadata": {},
   "outputs": [
    {
     "name": "stdout",
     "output_type": "stream",
     "text": [
      "0.7833333333333333\n"
     ]
    }
   ],
   "source": [
    "# 정확도\n",
    "accuracy = accuracy_score(y_te, pred_rf)\n",
    "print(accuracy)"
   ]
  },
  {
   "cell_type": "code",
   "execution_count": 40,
   "id": "74a2653a",
   "metadata": {},
   "outputs": [
    {
     "name": "stdout",
     "output_type": "stream",
     "text": [
      "[[ 0  0  0  0  1]\n",
      " [ 0  0  0  0  1]\n",
      " [ 0  0  1  0  9]\n",
      " [ 0  0  0  0  2]\n",
      " [ 0  0  0  0 46]]\n"
     ]
    }
   ],
   "source": [
    "# Confusion Matrix 확인\n",
    "conf_matrix = confusion_matrix(y_te, pred_rf)\n",
    "print(conf_matrix)"
   ]
  },
  {
   "cell_type": "code",
   "execution_count": null,
   "id": "72f3b907",
   "metadata": {},
   "outputs": [],
   "source": []
  }
 ],
 "metadata": {
  "kernelspec": {
   "display_name": "Python 3 (ipykernel)",
   "language": "python",
   "name": "python3"
  },
  "language_info": {
   "codemirror_mode": {
    "name": "ipython",
    "version": 3
   },
   "file_extension": ".py",
   "mimetype": "text/x-python",
   "name": "python",
   "nbconvert_exporter": "python",
   "pygments_lexer": "ipython3",
   "version": "3.9.12"
  }
 },
 "nbformat": 4,
 "nbformat_minor": 5
}
