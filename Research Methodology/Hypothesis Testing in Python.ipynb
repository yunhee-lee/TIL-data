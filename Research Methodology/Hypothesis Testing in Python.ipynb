{
 "cells": [
  {
   "cell_type": "code",
   "execution_count": 1,
   "id": "a7b8ea5a",
   "metadata": {},
   "outputs": [],
   "source": [
    "import numpy as np\n",
    "import pandas as pd\n",
    "from scipy import stats\n",
    "import matplotlib.pyplot as plt"
   ]
  },
  {
   "cell_type": "code",
   "execution_count": 2,
   "id": "697773db",
   "metadata": {},
   "outputs": [],
   "source": [
    "df_order = pd.read_csv(\"./Data/order_total.csv\")"
   ]
  },
  {
   "cell_type": "code",
   "execution_count": 3,
   "id": "79798ffc",
   "metadata": {},
   "outputs": [
    {
     "data": {
      "text/html": [
       "<div>\n",
       "<style scoped>\n",
       "    .dataframe tbody tr th:only-of-type {\n",
       "        vertical-align: middle;\n",
       "    }\n",
       "\n",
       "    .dataframe tbody tr th {\n",
       "        vertical-align: top;\n",
       "    }\n",
       "\n",
       "    .dataframe thead th {\n",
       "        text-align: right;\n",
       "    }\n",
       "</style>\n",
       "<table border=\"1\" class=\"dataframe\">\n",
       "  <thead>\n",
       "    <tr style=\"text-align: right;\">\n",
       "      <th></th>\n",
       "      <th>Unnamed: 0</th>\n",
       "      <th>ORDER_ID</th>\n",
       "      <th>USER_ID</th>\n",
       "      <th>PRODUCT_ID</th>\n",
       "      <th>ORDER_QUANTITY</th>\n",
       "      <th>ORDER_DT</th>\n",
       "      <th>PAY_TYPE</th>\n",
       "      <th>PAY_NAME</th>\n",
       "      <th>USER_NAME</th>\n",
       "      <th>NICKNAME</th>\n",
       "      <th>GENDER</th>\n",
       "      <th>BIRTHDAY</th>\n",
       "      <th>PHONE_NUMBER</th>\n",
       "      <th>EMAIL</th>\n",
       "      <th>ADDRESS</th>\n",
       "      <th>ITEM_NAME</th>\n",
       "      <th>CATEGORY_ID</th>\n",
       "      <th>PRICE</th>\n",
       "    </tr>\n",
       "  </thead>\n",
       "  <tbody>\n",
       "    <tr>\n",
       "      <th>0</th>\n",
       "      <td>0</td>\n",
       "      <td>Z0000000001</td>\n",
       "      <td>happygirl</td>\n",
       "      <td>A00000002</td>\n",
       "      <td>1</td>\n",
       "      <td>2022-09-16</td>\n",
       "      <td>P01</td>\n",
       "      <td>CARD</td>\n",
       "      <td>한소진</td>\n",
       "      <td>소진</td>\n",
       "      <td>F</td>\n",
       "      <td>1994-08-29</td>\n",
       "      <td>010-9999-9999</td>\n",
       "      <td>efefe@naver.com</td>\n",
       "      <td>서울특별시 관악구</td>\n",
       "      <td>하의</td>\n",
       "      <td>C001</td>\n",
       "      <td>60000</td>\n",
       "    </tr>\n",
       "    <tr>\n",
       "      <th>1</th>\n",
       "      <td>1</td>\n",
       "      <td>Z0000000002</td>\n",
       "      <td>nari555</td>\n",
       "      <td>A00000023</td>\n",
       "      <td>5</td>\n",
       "      <td>2022-09-16</td>\n",
       "      <td>P03</td>\n",
       "      <td>KAKAOPAY</td>\n",
       "      <td>김나리</td>\n",
       "      <td>국악소녀</td>\n",
       "      <td>F</td>\n",
       "      <td>1997-05-05</td>\n",
       "      <td>010-8888-1234</td>\n",
       "      <td>nari22@naver.com</td>\n",
       "      <td>경기도 이천시</td>\n",
       "      <td>라면</td>\n",
       "      <td>C004</td>\n",
       "      <td>1200</td>\n",
       "    </tr>\n",
       "    <tr>\n",
       "      <th>2</th>\n",
       "      <td>2</td>\n",
       "      <td>Z0000000003</td>\n",
       "      <td>nari555</td>\n",
       "      <td>A00000029</td>\n",
       "      <td>1</td>\n",
       "      <td>2022-09-16</td>\n",
       "      <td>P01</td>\n",
       "      <td>CARD</td>\n",
       "      <td>김나리</td>\n",
       "      <td>국악소녀</td>\n",
       "      <td>F</td>\n",
       "      <td>1997-05-05</td>\n",
       "      <td>010-8888-1234</td>\n",
       "      <td>nari22@naver.com</td>\n",
       "      <td>경기도 이천시</td>\n",
       "      <td>소세지</td>\n",
       "      <td>C004</td>\n",
       "      <td>4500</td>\n",
       "    </tr>\n",
       "    <tr>\n",
       "      <th>3</th>\n",
       "      <td>3</td>\n",
       "      <td>Z0000000004</td>\n",
       "      <td>jmlove1234</td>\n",
       "      <td>A00000004</td>\n",
       "      <td>1</td>\n",
       "      <td>2022-09-16</td>\n",
       "      <td>P01</td>\n",
       "      <td>CARD</td>\n",
       "      <td>이강주</td>\n",
       "      <td>참나</td>\n",
       "      <td>F</td>\n",
       "      <td>1989-03-22</td>\n",
       "      <td>010-3234-1242</td>\n",
       "      <td>kjoo@google.com</td>\n",
       "      <td>대전광역시 유성구</td>\n",
       "      <td>가방</td>\n",
       "      <td>C001</td>\n",
       "      <td>100000</td>\n",
       "    </tr>\n",
       "    <tr>\n",
       "      <th>4</th>\n",
       "      <td>4</td>\n",
       "      <td>Z0000000005</td>\n",
       "      <td>young876</td>\n",
       "      <td>A00000022</td>\n",
       "      <td>3</td>\n",
       "      <td>2022-09-16</td>\n",
       "      <td>P01</td>\n",
       "      <td>CARD</td>\n",
       "      <td>박가영</td>\n",
       "      <td>이거먹엉</td>\n",
       "      <td>F</td>\n",
       "      <td>1989-08-16</td>\n",
       "      <td>010-2345-1234</td>\n",
       "      <td>young1234@naver.com</td>\n",
       "      <td>광주광역시 동구</td>\n",
       "      <td>과자</td>\n",
       "      <td>C004</td>\n",
       "      <td>1500</td>\n",
       "    </tr>\n",
       "  </tbody>\n",
       "</table>\n",
       "</div>"
      ],
      "text/plain": [
       "   Unnamed: 0     ORDER_ID     USER_ID PRODUCT_ID  ORDER_QUANTITY    ORDER_DT  \\\n",
       "0           0  Z0000000001   happygirl  A00000002               1  2022-09-16   \n",
       "1           1  Z0000000002     nari555  A00000023               5  2022-09-16   \n",
       "2           2  Z0000000003     nari555  A00000029               1  2022-09-16   \n",
       "3           3  Z0000000004  jmlove1234  A00000004               1  2022-09-16   \n",
       "4           4  Z0000000005    young876  A00000022               3  2022-09-16   \n",
       "\n",
       "  PAY_TYPE  PAY_NAME USER_NAME NICKNAME GENDER    BIRTHDAY   PHONE_NUMBER  \\\n",
       "0      P01      CARD       한소진       소진      F  1994-08-29  010-9999-9999   \n",
       "1      P03  KAKAOPAY       김나리     국악소녀      F  1997-05-05  010-8888-1234   \n",
       "2      P01      CARD       김나리     국악소녀      F  1997-05-05  010-8888-1234   \n",
       "3      P01      CARD       이강주       참나      F  1989-03-22  010-3234-1242   \n",
       "4      P01      CARD       박가영     이거먹엉      F  1989-08-16  010-2345-1234   \n",
       "\n",
       "                 EMAIL    ADDRESS ITEM_NAME CATEGORY_ID   PRICE  \n",
       "0      efefe@naver.com  서울특별시 관악구        하의        C001   60000  \n",
       "1     nari22@naver.com    경기도 이천시        라면        C004    1200  \n",
       "2     nari22@naver.com    경기도 이천시       소세지        C004    4500  \n",
       "3      kjoo@google.com  대전광역시 유성구        가방        C001  100000  \n",
       "4  young1234@naver.com   광주광역시 동구        과자        C004    1500  "
      ]
     },
     "execution_count": 3,
     "metadata": {},
     "output_type": "execute_result"
    }
   ],
   "source": [
    "df_order.head(5)"
   ]
  },
  {
   "cell_type": "code",
   "execution_count": 4,
   "id": "22d61612",
   "metadata": {},
   "outputs": [
    {
     "data": {
      "text/plain": [
       "array(['CARD', 'KAKAOPAY', 'NAVERPAY', 'PAYCO'], dtype=object)"
      ]
     },
     "execution_count": 4,
     "metadata": {},
     "output_type": "execute_result"
    }
   ],
   "source": [
    "df_order['PAY_NAME'].unique()"
   ]
  },
  {
   "cell_type": "code",
   "execution_count": 5,
   "id": "c3901d07",
   "metadata": {},
   "outputs": [],
   "source": [
    "df_order['TOTAL_PRICE'] = df_order['ORDER_QUANTITY'] * df_order['PRICE']"
   ]
  },
  {
   "cell_type": "code",
   "execution_count": 6,
   "id": "b355d1a9",
   "metadata": {},
   "outputs": [],
   "source": [
    "df_c = df_order[df_order['PAY_NAME'] == 'CARD']\n",
    "df_k = df_order[df_order['PAY_NAME'] == 'KAKAOPAY']\n",
    "df_n = df_order[df_order['PAY_NAME'] == 'NAVERPAY']\n",
    "df_p = df_order[df_order['PAY_NAME'] == 'PAYCO']"
   ]
  },
  {
   "cell_type": "code",
   "execution_count": 7,
   "id": "8f70c49a",
   "metadata": {},
   "outputs": [],
   "source": [
    "df_c_price = df_c['TOTAL_PRICE']\n",
    "df_k_price = df_k['TOTAL_PRICE']\n",
    "df_n_price = df_n['TOTAL_PRICE']\n",
    "df_p_price = df_p['TOTAL_PRICE']"
   ]
  },
  {
   "cell_type": "markdown",
   "id": "29c389a9",
   "metadata": {},
   "source": [
    "## 두 집단 평균 차이 검정 : z-value\n",
    "\n",
    "* H0 : 카드 사용자 평균 판매 금액과 카카오페이 사용자 평균 판매 금액의 차이가 없다.\n",
    "* H1 : 카드 사용자 평균 판매 금액이 카카오페이 사용자 평균 판매 금액보다 크다."
   ]
  },
  {
   "cell_type": "code",
   "execution_count": 8,
   "id": "c6f94605",
   "metadata": {},
   "outputs": [
    {
     "name": "stdout",
     "output_type": "stream",
     "text": [
      "222872.0588235294\n"
     ]
    }
   ],
   "source": [
    "df_c_mean = np.mean(df_c_price)\n",
    "print(df_c_mean)"
   ]
  },
  {
   "cell_type": "code",
   "execution_count": 9,
   "id": "0e949e73",
   "metadata": {},
   "outputs": [
    {
     "name": "stdout",
     "output_type": "stream",
     "text": [
      "224973349072.2318\n"
     ]
    }
   ],
   "source": [
    "df_c_var = np.std(df_c_price)**2\n",
    "print(df_c_var)"
   ]
  },
  {
   "cell_type": "code",
   "execution_count": 10,
   "id": "91367fc3",
   "metadata": {},
   "outputs": [
    {
     "name": "stdout",
     "output_type": "stream",
     "text": [
      "68\n"
     ]
    }
   ],
   "source": [
    "n1 = len(df_c_price)\n",
    "print(n1)"
   ]
  },
  {
   "cell_type": "code",
   "execution_count": 11,
   "id": "c9e2bc7c",
   "metadata": {},
   "outputs": [],
   "source": [
    "df_k_mean = np.mean(df_k_price)\n",
    "df_k_var = np.std(df_k_price)**2\n",
    "n2 = len(df_k_price)"
   ]
  },
  {
   "cell_type": "code",
   "execution_count": 12,
   "id": "e96197a4",
   "metadata": {},
   "outputs": [
    {
     "name": "stdout",
     "output_type": "stream",
     "text": [
      "72213.03671352251\n"
     ]
    }
   ],
   "source": [
    "s = ((df_c_var/n1) + (df_k_var/n2))**0.5\n",
    "print(s)"
   ]
  },
  {
   "cell_type": "code",
   "execution_count": 13,
   "id": "a19b6d1c",
   "metadata": {},
   "outputs": [
    {
     "name": "stdout",
     "output_type": "stream",
     "text": [
      "1.0058447284240675\n"
     ]
    }
   ],
   "source": [
    "z_value = (df_c_mean - df_k_mean) / s\n",
    "print(z_value)"
   ]
  },
  {
   "cell_type": "code",
   "execution_count": 14,
   "id": "6233638b",
   "metadata": {},
   "outputs": [
    {
     "name": "stdout",
     "output_type": "stream",
     "text": [
      "0.1572451336994194\n"
     ]
    }
   ],
   "source": [
    "z_dist = stats.norm(0, 1)\n",
    "p_value = 1 - z_dist.cdf(z_value)\n",
    "# 이 때, cdf는 누적 분포 함수를 의미함\n",
    "\n",
    "print(p_value)"
   ]
  },
  {
   "cell_type": "markdown",
   "id": "4295c81d",
   "metadata": {},
   "source": [
    "## ANOVA 검정"
   ]
  },
  {
   "cell_type": "code",
   "execution_count": 21,
   "id": "bc406cca",
   "metadata": {},
   "outputs": [
    {
     "name": "stdout",
     "output_type": "stream",
     "text": [
      "검정통계량 : 0.5087577104568481, p-value : 9.8985483167318e-14\n",
      "검정통계량 : 0.3661268353462219, p-value : 4.495038414956061e-18\n",
      "검정통계량 : 0.588603138923645, p-value : 1.720039215225011e-11\n",
      "검정통계량 : 0.5554932355880737, p-value : 4.5594740072374407e-07\n"
     ]
    }
   ],
   "source": [
    "# 정규성 검정\n",
    "test_stat, p = stats.shapiro(df_c_price)\n",
    "print(\"검정통계량 : {}, p-value : {}\".format(test_stat, p))\n",
    "\n",
    "test_stat, p = stats.shapiro(df_k_price)\n",
    "print(\"검정통계량 : {}, p-value : {}\".format(test_stat, p))\n",
    "\n",
    "test_stat, p = stats.shapiro(df_n_price)\n",
    "print(\"검정통계량 : {}, p-value : {}\".format(test_stat, p))\n",
    "\n",
    "test_stat, p = stats.shapiro(df_p_price)\n",
    "print(\"검정통계량 : {}, p-value : {}\".format(test_stat, p))\n",
    "\n",
    "# H0 : 정규 분포를 따른다 vs. H1 : 정규 분포를 따르지 않는다\n",
    "# 정규 분포를 따르지 않음"
   ]
  },
  {
   "cell_type": "code",
   "execution_count": 22,
   "id": "d73b7b2a",
   "metadata": {},
   "outputs": [
    {
     "data": {
      "text/plain": [
       "BartlettResult(statistic=7.960811549511178, pvalue=0.046828593933715426)"
      ]
     },
     "execution_count": 22,
     "metadata": {},
     "output_type": "execute_result"
    }
   ],
   "source": [
    "# 분산 동질성 검정\n",
    "stats.bartlett(df_c_price, df_k_price, df_n_price, df_p_price)\n",
    "\n",
    "# H0 : 분산이 동일하다 vs. H1 : 분산이 동일하지 않다\n",
    "# 분산이 동일하지 않음"
   ]
  },
  {
   "cell_type": "code",
   "execution_count": 23,
   "id": "11dbdf6f",
   "metadata": {},
   "outputs": [
    {
     "name": "stdout",
     "output_type": "stream",
     "text": [
      "F-통계량 :  0.5472792305647792\n",
      "p-value :  0.579486591257784\n"
     ]
    }
   ],
   "source": [
    "f_val, p_val = stats.f_oneway(df_c_price, df_k_price, df_p_price)\n",
    "print('F-통계량 : ', f_val)\n",
    "print('p-value : ', p_val)"
   ]
  },
  {
   "cell_type": "code",
   "execution_count": 25,
   "id": "685d16ed",
   "metadata": {},
   "outputs": [
    {
     "name": "stdout",
     "output_type": "stream",
     "text": [
      "F-통계량 :  1.2582892459635282\n",
      "p-value :  0.28941170124619253\n"
     ]
    }
   ],
   "source": [
    "f_val, p_val = stats.f_oneway(df_c_price, df_k_price, df_n_price, df_p_price)\n",
    "print('F-통계량 : ', f_val)\n",
    "print('p-value : ', p_val)\n",
    "\n",
    "# H0 : 그룹의 평균 판매 금액 차이가 없다 vs. H1 : 그룹의 평군 판매 금액에 차이가 있다\n",
    "# 검정 결과 차이가 없음"
   ]
  },
  {
   "cell_type": "markdown",
   "id": "c3b9c473",
   "metadata": {},
   "source": [
    "## 분할표를 활용한 연관성 분석 : Chi-square"
   ]
  },
  {
   "cell_type": "code",
   "execution_count": 27,
   "id": "0b7fe2da",
   "metadata": {},
   "outputs": [],
   "source": [
    "df_order['CARD_OR_PAY'] = np.where(df_order['PAY_NAME']=='CARD', 'CARD', 'PAY')"
   ]
  },
  {
   "cell_type": "code",
   "execution_count": 28,
   "id": "a64290aa",
   "metadata": {},
   "outputs": [
    {
     "data": {
      "text/html": [
       "<div>\n",
       "<style scoped>\n",
       "    .dataframe tbody tr th:only-of-type {\n",
       "        vertical-align: middle;\n",
       "    }\n",
       "\n",
       "    .dataframe tbody tr th {\n",
       "        vertical-align: top;\n",
       "    }\n",
       "\n",
       "    .dataframe thead th {\n",
       "        text-align: right;\n",
       "    }\n",
       "</style>\n",
       "<table border=\"1\" class=\"dataframe\">\n",
       "  <thead>\n",
       "    <tr style=\"text-align: right;\">\n",
       "      <th></th>\n",
       "      <th>Unnamed: 0</th>\n",
       "      <th>ORDER_ID</th>\n",
       "      <th>USER_ID</th>\n",
       "      <th>PRODUCT_ID</th>\n",
       "      <th>ORDER_QUANTITY</th>\n",
       "      <th>ORDER_DT</th>\n",
       "      <th>PAY_TYPE</th>\n",
       "      <th>PAY_NAME</th>\n",
       "      <th>USER_NAME</th>\n",
       "      <th>NICKNAME</th>\n",
       "      <th>GENDER</th>\n",
       "      <th>BIRTHDAY</th>\n",
       "      <th>PHONE_NUMBER</th>\n",
       "      <th>EMAIL</th>\n",
       "      <th>ADDRESS</th>\n",
       "      <th>ITEM_NAME</th>\n",
       "      <th>CATEGORY_ID</th>\n",
       "      <th>PRICE</th>\n",
       "      <th>TOTAL_PRICE</th>\n",
       "      <th>CARD_OR_PAY</th>\n",
       "    </tr>\n",
       "  </thead>\n",
       "  <tbody>\n",
       "    <tr>\n",
       "      <th>0</th>\n",
       "      <td>0</td>\n",
       "      <td>Z0000000001</td>\n",
       "      <td>happygirl</td>\n",
       "      <td>A00000002</td>\n",
       "      <td>1</td>\n",
       "      <td>2022-09-16</td>\n",
       "      <td>P01</td>\n",
       "      <td>CARD</td>\n",
       "      <td>한소진</td>\n",
       "      <td>소진</td>\n",
       "      <td>F</td>\n",
       "      <td>1994-08-29</td>\n",
       "      <td>010-9999-9999</td>\n",
       "      <td>efefe@naver.com</td>\n",
       "      <td>서울특별시 관악구</td>\n",
       "      <td>하의</td>\n",
       "      <td>C001</td>\n",
       "      <td>60000</td>\n",
       "      <td>60000</td>\n",
       "      <td>CARD</td>\n",
       "    </tr>\n",
       "    <tr>\n",
       "      <th>1</th>\n",
       "      <td>1</td>\n",
       "      <td>Z0000000002</td>\n",
       "      <td>nari555</td>\n",
       "      <td>A00000023</td>\n",
       "      <td>5</td>\n",
       "      <td>2022-09-16</td>\n",
       "      <td>P03</td>\n",
       "      <td>KAKAOPAY</td>\n",
       "      <td>김나리</td>\n",
       "      <td>국악소녀</td>\n",
       "      <td>F</td>\n",
       "      <td>1997-05-05</td>\n",
       "      <td>010-8888-1234</td>\n",
       "      <td>nari22@naver.com</td>\n",
       "      <td>경기도 이천시</td>\n",
       "      <td>라면</td>\n",
       "      <td>C004</td>\n",
       "      <td>1200</td>\n",
       "      <td>6000</td>\n",
       "      <td>PAY</td>\n",
       "    </tr>\n",
       "    <tr>\n",
       "      <th>2</th>\n",
       "      <td>2</td>\n",
       "      <td>Z0000000003</td>\n",
       "      <td>nari555</td>\n",
       "      <td>A00000029</td>\n",
       "      <td>1</td>\n",
       "      <td>2022-09-16</td>\n",
       "      <td>P01</td>\n",
       "      <td>CARD</td>\n",
       "      <td>김나리</td>\n",
       "      <td>국악소녀</td>\n",
       "      <td>F</td>\n",
       "      <td>1997-05-05</td>\n",
       "      <td>010-8888-1234</td>\n",
       "      <td>nari22@naver.com</td>\n",
       "      <td>경기도 이천시</td>\n",
       "      <td>소세지</td>\n",
       "      <td>C004</td>\n",
       "      <td>4500</td>\n",
       "      <td>4500</td>\n",
       "      <td>CARD</td>\n",
       "    </tr>\n",
       "    <tr>\n",
       "      <th>3</th>\n",
       "      <td>3</td>\n",
       "      <td>Z0000000004</td>\n",
       "      <td>jmlove1234</td>\n",
       "      <td>A00000004</td>\n",
       "      <td>1</td>\n",
       "      <td>2022-09-16</td>\n",
       "      <td>P01</td>\n",
       "      <td>CARD</td>\n",
       "      <td>이강주</td>\n",
       "      <td>참나</td>\n",
       "      <td>F</td>\n",
       "      <td>1989-03-22</td>\n",
       "      <td>010-3234-1242</td>\n",
       "      <td>kjoo@google.com</td>\n",
       "      <td>대전광역시 유성구</td>\n",
       "      <td>가방</td>\n",
       "      <td>C001</td>\n",
       "      <td>100000</td>\n",
       "      <td>100000</td>\n",
       "      <td>CARD</td>\n",
       "    </tr>\n",
       "    <tr>\n",
       "      <th>4</th>\n",
       "      <td>4</td>\n",
       "      <td>Z0000000005</td>\n",
       "      <td>young876</td>\n",
       "      <td>A00000022</td>\n",
       "      <td>3</td>\n",
       "      <td>2022-09-16</td>\n",
       "      <td>P01</td>\n",
       "      <td>CARD</td>\n",
       "      <td>박가영</td>\n",
       "      <td>이거먹엉</td>\n",
       "      <td>F</td>\n",
       "      <td>1989-08-16</td>\n",
       "      <td>010-2345-1234</td>\n",
       "      <td>young1234@naver.com</td>\n",
       "      <td>광주광역시 동구</td>\n",
       "      <td>과자</td>\n",
       "      <td>C004</td>\n",
       "      <td>1500</td>\n",
       "      <td>4500</td>\n",
       "      <td>CARD</td>\n",
       "    </tr>\n",
       "  </tbody>\n",
       "</table>\n",
       "</div>"
      ],
      "text/plain": [
       "   Unnamed: 0     ORDER_ID     USER_ID PRODUCT_ID  ORDER_QUANTITY    ORDER_DT  \\\n",
       "0           0  Z0000000001   happygirl  A00000002               1  2022-09-16   \n",
       "1           1  Z0000000002     nari555  A00000023               5  2022-09-16   \n",
       "2           2  Z0000000003     nari555  A00000029               1  2022-09-16   \n",
       "3           3  Z0000000004  jmlove1234  A00000004               1  2022-09-16   \n",
       "4           4  Z0000000005    young876  A00000022               3  2022-09-16   \n",
       "\n",
       "  PAY_TYPE  PAY_NAME USER_NAME NICKNAME GENDER    BIRTHDAY   PHONE_NUMBER  \\\n",
       "0      P01      CARD       한소진       소진      F  1994-08-29  010-9999-9999   \n",
       "1      P03  KAKAOPAY       김나리     국악소녀      F  1997-05-05  010-8888-1234   \n",
       "2      P01      CARD       김나리     국악소녀      F  1997-05-05  010-8888-1234   \n",
       "3      P01      CARD       이강주       참나      F  1989-03-22  010-3234-1242   \n",
       "4      P01      CARD       박가영     이거먹엉      F  1989-08-16  010-2345-1234   \n",
       "\n",
       "                 EMAIL    ADDRESS ITEM_NAME CATEGORY_ID   PRICE  TOTAL_PRICE  \\\n",
       "0      efefe@naver.com  서울특별시 관악구        하의        C001   60000        60000   \n",
       "1     nari22@naver.com    경기도 이천시        라면        C004    1200         6000   \n",
       "2     nari22@naver.com    경기도 이천시       소세지        C004    4500         4500   \n",
       "3      kjoo@google.com  대전광역시 유성구        가방        C001  100000       100000   \n",
       "4  young1234@naver.com   광주광역시 동구        과자        C004    1500         4500   \n",
       "\n",
       "  CARD_OR_PAY  \n",
       "0        CARD  \n",
       "1         PAY  \n",
       "2        CARD  \n",
       "3        CARD  \n",
       "4        CARD  "
      ]
     },
     "execution_count": 28,
     "metadata": {},
     "output_type": "execute_result"
    }
   ],
   "source": [
    "df_order.head(5)"
   ]
  },
  {
   "cell_type": "code",
   "execution_count": 29,
   "id": "25dfc8fa",
   "metadata": {},
   "outputs": [
    {
     "data": {
      "text/plain": [
       "array(['F', 'M'], dtype=object)"
      ]
     },
     "execution_count": 29,
     "metadata": {},
     "output_type": "execute_result"
    }
   ],
   "source": [
    "df_order['GENDER'].unique()"
   ]
  },
  {
   "cell_type": "code",
   "execution_count": 30,
   "id": "0079af17",
   "metadata": {},
   "outputs": [
    {
     "data": {
      "text/plain": [
       "array(['CARD', 'PAY'], dtype=object)"
      ]
     },
     "execution_count": 30,
     "metadata": {},
     "output_type": "execute_result"
    }
   ],
   "source": [
    "df_order['CARD_OR_PAY'].unique()"
   ]
  },
  {
   "cell_type": "code",
   "execution_count": 33,
   "id": "6f04a994",
   "metadata": {},
   "outputs": [],
   "source": [
    "female = df_order['GENDER'] == 'F'\n",
    "male =  df_order['GENDER'] == 'M'\n",
    "card = df_order['CARD_OR_PAY'] == 'CARD'\n",
    "pay = df_order['CARD_OR_PAY'] == 'PAY'"
   ]
  },
  {
   "cell_type": "code",
   "execution_count": 36,
   "id": "cc1ffcf9",
   "metadata": {},
   "outputs": [],
   "source": [
    "f_c = len(df_order[female & card])\n",
    "f_p = len(df_order[female & pay])\n",
    "m_c = len(df_order[male & card])\n",
    "m_p = len(df_order[male & pay])"
   ]
  },
  {
   "cell_type": "code",
   "execution_count": 38,
   "id": "3efacf32",
   "metadata": {},
   "outputs": [
    {
     "name": "stdout",
     "output_type": "stream",
     "text": [
      "Test Statistic : 0.8839313900873409\n",
      "p-value: 0.34712715957397844\n",
      "Degree of Freedom : 1\n",
      "[[ 49.58333333 125.41666667]\n",
      " [ 18.41666667  46.58333333]]\n"
     ]
    }
   ],
   "source": [
    "obs = np.array([[f_c, f_p], [m_c, m_p]])\n",
    "chi2, p, d, expected = stats.chi2_contingency(obs)\n",
    "\n",
    "msg = 'Test Statistic : {}\\np-value: {}\\nDegree of Freedom : {}'\n",
    "print(msg.format(chi2, p, d))\n",
    "print(expected)\n",
    "\n",
    "# H0 : 연관성이 없다 vs. H1 : 연관성이 있다\n",
    "# 검정 결과 성별과 카드 사용 여부는 연관성이 없음"
   ]
  }
 ],
 "metadata": {
  "kernelspec": {
   "display_name": "Python 3 (ipykernel)",
   "language": "python",
   "name": "python3"
  },
  "language_info": {
   "codemirror_mode": {
    "name": "ipython",
    "version": 3
   },
   "file_extension": ".py",
   "mimetype": "text/x-python",
   "name": "python",
   "nbconvert_exporter": "python",
   "pygments_lexer": "ipython3",
   "version": "3.9.12"
  }
 },
 "nbformat": 4,
 "nbformat_minor": 5
}
