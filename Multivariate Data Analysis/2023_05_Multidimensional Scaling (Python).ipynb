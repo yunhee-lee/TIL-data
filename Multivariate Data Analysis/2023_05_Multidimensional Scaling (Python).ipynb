{
 "cells": [
  {
   "cell_type": "code",
   "execution_count": 2,
   "id": "b51d5ee7",
   "metadata": {},
   "outputs": [
    {
     "data": {
      "text/html": [
       "<div>\n",
       "<style scoped>\n",
       "    .dataframe tbody tr th:only-of-type {\n",
       "        vertical-align: middle;\n",
       "    }\n",
       "\n",
       "    .dataframe tbody tr th {\n",
       "        vertical-align: top;\n",
       "    }\n",
       "\n",
       "    .dataframe thead th {\n",
       "        text-align: right;\n",
       "    }\n",
       "</style>\n",
       "<table border=\"1\" class=\"dataframe\">\n",
       "  <thead>\n",
       "    <tr style=\"text-align: right;\">\n",
       "      <th></th>\n",
       "      <th>autoName</th>\n",
       "      <th>length</th>\n",
       "      <th>width</th>\n",
       "      <th>enginesize</th>\n",
       "      <th>fuel</th>\n",
       "      <th>price</th>\n",
       "    </tr>\n",
       "  </thead>\n",
       "  <tbody>\n",
       "    <tr>\n",
       "      <th>0</th>\n",
       "      <td>visto</td>\n",
       "      <td>3495</td>\n",
       "      <td>1495</td>\n",
       "      <td>798</td>\n",
       "      <td>21.5</td>\n",
       "      <td>540</td>\n",
       "    </tr>\n",
       "    <tr>\n",
       "      <th>1</th>\n",
       "      <td>tico</td>\n",
       "      <td>3340</td>\n",
       "      <td>1400</td>\n",
       "      <td>796</td>\n",
       "      <td>21.0</td>\n",
       "      <td>550</td>\n",
       "    </tr>\n",
       "    <tr>\n",
       "      <th>2</th>\n",
       "      <td>Matiz</td>\n",
       "      <td>3495</td>\n",
       "      <td>1495</td>\n",
       "      <td>796</td>\n",
       "      <td>22.2</td>\n",
       "      <td>555</td>\n",
       "    </tr>\n",
       "    <tr>\n",
       "      <th>3</th>\n",
       "      <td>Atos</td>\n",
       "      <td>3495</td>\n",
       "      <td>1495</td>\n",
       "      <td>798</td>\n",
       "      <td>22.0</td>\n",
       "      <td>571</td>\n",
       "    </tr>\n",
       "    <tr>\n",
       "      <th>4</th>\n",
       "      <td>Spectra</td>\n",
       "      <td>4510</td>\n",
       "      <td>1720</td>\n",
       "      <td>1493</td>\n",
       "      <td>20.8</td>\n",
       "      <td>540</td>\n",
       "    </tr>\n",
       "  </tbody>\n",
       "</table>\n",
       "</div>"
      ],
      "text/plain": [
       "  autoName  length  width  enginesize  fuel  price\n",
       "0    visto    3495   1495         798  21.5    540\n",
       "1     tico    3340   1400         796  21.0    550\n",
       "2    Matiz    3495   1495         796  22.2    555\n",
       "3     Atos    3495   1495         798  22.0    571\n",
       "4  Spectra    4510   1720        1493  20.8    540"
      ]
     },
     "execution_count": 2,
     "metadata": {},
     "output_type": "execute_result"
    }
   ],
   "source": [
    "import pandas as pd\n",
    "import numpy as np\n",
    "import matplotlib.pyplot as plt\n",
    "\n",
    "auto = pd.read_csv(\"Sample Data/auto.csv\")\n",
    "auto.head()"
   ]
  },
  {
   "cell_type": "code",
   "execution_count": 3,
   "id": "40bccf04",
   "metadata": {},
   "outputs": [],
   "source": [
    "x = auto.iloc[:, 1:]\n",
    "autoName = auto[\"autoName\"]\n",
    "autoName = list(autoName)"
   ]
  },
  {
   "cell_type": "code",
   "execution_count": 5,
   "id": "669d8837",
   "metadata": {},
   "outputs": [],
   "source": [
    "# z-standardization\n",
    "from sklearn.preprocessing import StandardScaler\n",
    "zx = StandardScaler().fit_transform(x)"
   ]
  },
  {
   "cell_type": "code",
   "execution_count": 7,
   "id": "4ea1122f",
   "metadata": {},
   "outputs": [],
   "source": [
    "# 0-1 변환\n",
    "from sklearn.preprocessing import MinMaxScaler\n",
    "scaler = MinMaxScaler()\n",
    "z01x = scaler.fit_transform(x)"
   ]
  },
  {
   "cell_type": "code",
   "execution_count": 8,
   "id": "15d53baa",
   "metadata": {},
   "outputs": [
    {
     "data": {
      "text/plain": [
       "(23, 23)"
      ]
     },
     "execution_count": 8,
     "metadata": {},
     "output_type": "execute_result"
    }
   ],
   "source": [
    "# 거리행렬 구하기\n",
    "from sklearn.metrics import pairwise_distances\n",
    "z01x_dist = pairwise_distances(z01x, metric = 'euclidean')\n",
    "z01x_dist.shape"
   ]
  },
  {
   "cell_type": "code",
   "execution_count": 9,
   "id": "1982c665",
   "metadata": {},
   "outputs": [],
   "source": [
    "# MDS 실행\n",
    "from sklearn.manifold import MDS\n",
    "cmds = MDS(n_components = 2, random_state = 0, dissimilarity = 'precomputed')\n",
    "mds1 = cmds.fit(z01x_dist)\n",
    "mds1_coords = cmds.fit_transform(z01x_dist)"
   ]
  },
  {
   "cell_type": "code",
   "execution_count": 11,
   "id": "2462084b",
   "metadata": {},
   "outputs": [
    {
     "data": {
      "image/png": "[encoded data removed]",
      "text/plain": [
       "<Figure size 432x288 with 1 Axes>"
      ]
     },
     "metadata": {
      "needs_background": "light"
     },
     "output_type": "display_data"
    }
   ],
   "source": [
    "plt.figure()\n",
    "plt.scatter(mds1_coords[:, 0], mds1_coords[:, 1], facecolors = 'none', edgecolors = 'none')\n",
    "labels = autoName\n",
    "\n",
    "# 각 케이스에 라벨 붙이기\n",
    "for label, x, y in zip (labels, mds1_coords[:, 0], mds1_coords[:, 1]) :\n",
    "    plt.annotate(label, (x, y), xycoords = 'data')\n",
    "\n",
    "plt.xlabel('First dimension')\n",
    "plt.ylabel('Second dimension')\n",
    "plt.title('Metric MDS')\n",
    "plt.show()"
   ]
  }
 ],
 "metadata": {
  "kernelspec": {
   "display_name": "Python 3 (ipykernel)",
   "language": "python",
   "name": "python3"
  },
  "language_info": {
   "codemirror_mode": {
    "name": "ipython",
    "version": 3
   },
   "file_extension": ".py",
   "mimetype": "text/x-python",
   "name": "python",
   "nbconvert_exporter": "python",
   "pygments_lexer": "ipython3",
   "version": "3.9.12"
  }
 },
 "nbformat": 4,
 "nbformat_minor": 5
}
