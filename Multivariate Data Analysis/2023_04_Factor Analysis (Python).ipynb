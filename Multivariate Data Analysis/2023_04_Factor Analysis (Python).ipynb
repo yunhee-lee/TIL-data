{
 "cells": [
  {
   "cell_type": "code",
   "execution_count": 1,
   "id": "10a3d6bd",
   "metadata": {},
   "outputs": [],
   "source": [
    "import pandas as pd\n",
    "import numpy as np\n",
    "import matplotlib.pyplot as plt"
   ]
  },
  {
   "cell_type": "code",
   "execution_count": 2,
   "id": "4869fcd2",
   "metadata": {},
   "outputs": [
    {
     "data": {
      "text/html": [
       "<div>\n",
       "<style scoped>\n",
       "    .dataframe tbody tr th:only-of-type {\n",
       "        vertical-align: middle;\n",
       "    }\n",
       "\n",
       "    .dataframe tbody tr th {\n",
       "        vertical-align: top;\n",
       "    }\n",
       "\n",
       "    .dataframe thead th {\n",
       "        text-align: right;\n",
       "    }\n",
       "</style>\n",
       "<table border=\"1\" class=\"dataframe\">\n",
       "  <thead>\n",
       "    <tr style=\"text-align: right;\">\n",
       "      <th></th>\n",
       "      <th>lung</th>\n",
       "      <th>muscle</th>\n",
       "      <th>liver</th>\n",
       "      <th>skeleton</th>\n",
       "      <th>kidneys</th>\n",
       "      <th>heart</th>\n",
       "      <th>step</th>\n",
       "      <th>stamina</th>\n",
       "      <th>stretch</th>\n",
       "      <th>blow</th>\n",
       "      <th>urine</th>\n",
       "    </tr>\n",
       "  </thead>\n",
       "  <tbody>\n",
       "    <tr>\n",
       "      <th>0</th>\n",
       "      <td>20</td>\n",
       "      <td>16</td>\n",
       "      <td>52</td>\n",
       "      <td>10</td>\n",
       "      <td>24</td>\n",
       "      <td>23</td>\n",
       "      <td>19</td>\n",
       "      <td>20</td>\n",
       "      <td>23</td>\n",
       "      <td>29</td>\n",
       "      <td>67</td>\n",
       "    </tr>\n",
       "    <tr>\n",
       "      <th>1</th>\n",
       "      <td>24</td>\n",
       "      <td>16</td>\n",
       "      <td>52</td>\n",
       "      <td>7</td>\n",
       "      <td>27</td>\n",
       "      <td>16</td>\n",
       "      <td>16</td>\n",
       "      <td>15</td>\n",
       "      <td>31</td>\n",
       "      <td>33</td>\n",
       "      <td>59</td>\n",
       "    </tr>\n",
       "    <tr>\n",
       "      <th>2</th>\n",
       "      <td>19</td>\n",
       "      <td>21</td>\n",
       "      <td>57</td>\n",
       "      <td>18</td>\n",
       "      <td>22</td>\n",
       "      <td>23</td>\n",
       "      <td>16</td>\n",
       "      <td>19</td>\n",
       "      <td>42</td>\n",
       "      <td>40</td>\n",
       "      <td>61</td>\n",
       "    </tr>\n",
       "  </tbody>\n",
       "</table>\n",
       "</div>"
      ],
      "text/plain": [
       "   lung  muscle  liver  skeleton  kidneys  heart  step  stamina  stretch  \\\n",
       "0    20      16     52        10       24     23    19       20       23   \n",
       "1    24      16     52         7       27     16    16       15       31   \n",
       "2    19      21     57        18       22     23    16       19       42   \n",
       "\n",
       "   blow  urine  \n",
       "0    29     67  \n",
       "1    33     59  \n",
       "2    40     61  "
      ]
     },
     "execution_count": 2,
     "metadata": {},
     "output_type": "execute_result"
    }
   ],
   "source": [
    "med = pd.read_csv(\"Sample Data/medFactor.csv\")\n",
    "med.head(3)"
   ]
  },
  {
   "cell_type": "code",
   "execution_count": 3,
   "id": "d6cd7f0a",
   "metadata": {},
   "outputs": [
    {
     "data": {
      "text/html": [
       "<div>\n",
       "<style scoped>\n",
       "    .dataframe tbody tr th:only-of-type {\n",
       "        vertical-align: middle;\n",
       "    }\n",
       "\n",
       "    .dataframe tbody tr th {\n",
       "        vertical-align: top;\n",
       "    }\n",
       "\n",
       "    .dataframe thead th {\n",
       "        text-align: right;\n",
       "    }\n",
       "</style>\n",
       "<table border=\"1\" class=\"dataframe\">\n",
       "  <thead>\n",
       "    <tr style=\"text-align: right;\">\n",
       "      <th></th>\n",
       "      <th>lung</th>\n",
       "      <th>muscle</th>\n",
       "      <th>liver</th>\n",
       "      <th>skeleton</th>\n",
       "      <th>kidneys</th>\n",
       "      <th>heart</th>\n",
       "      <th>step</th>\n",
       "      <th>stamina</th>\n",
       "      <th>stretch</th>\n",
       "      <th>blow</th>\n",
       "      <th>urine</th>\n",
       "    </tr>\n",
       "  </thead>\n",
       "  <tbody>\n",
       "    <tr>\n",
       "      <th>count</th>\n",
       "      <td>128.000000</td>\n",
       "      <td>128.000000</td>\n",
       "      <td>128.000000</td>\n",
       "      <td>128.000000</td>\n",
       "      <td>128.000000</td>\n",
       "      <td>128.000000</td>\n",
       "      <td>128.000000</td>\n",
       "      <td>128.000000</td>\n",
       "      <td>128.000000</td>\n",
       "      <td>128.000000</td>\n",
       "      <td>128.000000</td>\n",
       "    </tr>\n",
       "    <tr>\n",
       "      <th>mean</th>\n",
       "      <td>19.960938</td>\n",
       "      <td>18.820312</td>\n",
       "      <td>54.695312</td>\n",
       "      <td>12.867188</td>\n",
       "      <td>25.640625</td>\n",
       "      <td>23.179688</td>\n",
       "      <td>16.171875</td>\n",
       "      <td>15.867188</td>\n",
       "      <td>38.812500</td>\n",
       "      <td>33.539062</td>\n",
       "      <td>66.906250</td>\n",
       "    </tr>\n",
       "    <tr>\n",
       "      <th>std</th>\n",
       "      <td>4.464034</td>\n",
       "      <td>4.088458</td>\n",
       "      <td>7.428990</td>\n",
       "      <td>2.986508</td>\n",
       "      <td>3.805786</td>\n",
       "      <td>4.159106</td>\n",
       "      <td>2.478599</td>\n",
       "      <td>2.651314</td>\n",
       "      <td>7.798395</td>\n",
       "      <td>4.097055</td>\n",
       "      <td>12.565067</td>\n",
       "    </tr>\n",
       "    <tr>\n",
       "      <th>min</th>\n",
       "      <td>4.000000</td>\n",
       "      <td>9.000000</td>\n",
       "      <td>26.000000</td>\n",
       "      <td>3.000000</td>\n",
       "      <td>16.000000</td>\n",
       "      <td>11.000000</td>\n",
       "      <td>4.000000</td>\n",
       "      <td>7.000000</td>\n",
       "      <td>16.000000</td>\n",
       "      <td>17.000000</td>\n",
       "      <td>9.000000</td>\n",
       "    </tr>\n",
       "    <tr>\n",
       "      <th>25%</th>\n",
       "      <td>17.000000</td>\n",
       "      <td>16.000000</td>\n",
       "      <td>50.750000</td>\n",
       "      <td>11.000000</td>\n",
       "      <td>23.000000</td>\n",
       "      <td>22.000000</td>\n",
       "      <td>15.000000</td>\n",
       "      <td>14.000000</td>\n",
       "      <td>34.000000</td>\n",
       "      <td>32.000000</td>\n",
       "      <td>59.000000</td>\n",
       "    </tr>\n",
       "    <tr>\n",
       "      <th>50%</th>\n",
       "      <td>20.000000</td>\n",
       "      <td>19.000000</td>\n",
       "      <td>55.000000</td>\n",
       "      <td>13.000000</td>\n",
       "      <td>26.000000</td>\n",
       "      <td>23.000000</td>\n",
       "      <td>17.000000</td>\n",
       "      <td>16.000000</td>\n",
       "      <td>40.000000</td>\n",
       "      <td>34.000000</td>\n",
       "      <td>67.000000</td>\n",
       "    </tr>\n",
       "    <tr>\n",
       "      <th>75%</th>\n",
       "      <td>23.000000</td>\n",
       "      <td>22.000000</td>\n",
       "      <td>60.250000</td>\n",
       "      <td>15.000000</td>\n",
       "      <td>29.000000</td>\n",
       "      <td>25.000000</td>\n",
       "      <td>18.000000</td>\n",
       "      <td>18.000000</td>\n",
       "      <td>45.000000</td>\n",
       "      <td>36.000000</td>\n",
       "      <td>76.000000</td>\n",
       "    </tr>\n",
       "    <tr>\n",
       "      <th>max</th>\n",
       "      <td>29.000000</td>\n",
       "      <td>28.000000</td>\n",
       "      <td>69.000000</td>\n",
       "      <td>19.000000</td>\n",
       "      <td>32.000000</td>\n",
       "      <td>56.000000</td>\n",
       "      <td>20.000000</td>\n",
       "      <td>20.000000</td>\n",
       "      <td>51.000000</td>\n",
       "      <td>41.000000</td>\n",
       "      <td>93.000000</td>\n",
       "    </tr>\n",
       "  </tbody>\n",
       "</table>\n",
       "</div>"
      ],
      "text/plain": [
       "             lung      muscle       liver    skeleton     kidneys       heart  \\\n",
       "count  128.000000  128.000000  128.000000  128.000000  128.000000  128.000000   \n",
       "mean    19.960938   18.820312   54.695312   12.867188   25.640625   23.179688   \n",
       "std      4.464034    4.088458    7.428990    2.986508    3.805786    4.159106   \n",
       "min      4.000000    9.000000   26.000000    3.000000   16.000000   11.000000   \n",
       "25%     17.000000   16.000000   50.750000   11.000000   23.000000   22.000000   \n",
       "50%     20.000000   19.000000   55.000000   13.000000   26.000000   23.000000   \n",
       "75%     23.000000   22.000000   60.250000   15.000000   29.000000   25.000000   \n",
       "max     29.000000   28.000000   69.000000   19.000000   32.000000   56.000000   \n",
       "\n",
       "             step     stamina     stretch        blow       urine  \n",
       "count  128.000000  128.000000  128.000000  128.000000  128.000000  \n",
       "mean    16.171875   15.867188   38.812500   33.539062   66.906250  \n",
       "std      2.478599    2.651314    7.798395    4.097055   12.565067  \n",
       "min      4.000000    7.000000   16.000000   17.000000    9.000000  \n",
       "25%     15.000000   14.000000   34.000000   32.000000   59.000000  \n",
       "50%     17.000000   16.000000   40.000000   34.000000   67.000000  \n",
       "75%     18.000000   18.000000   45.000000   36.000000   76.000000  \n",
       "max     20.000000   20.000000   51.000000   41.000000   93.000000  "
      ]
     },
     "execution_count": 3,
     "metadata": {},
     "output_type": "execute_result"
    }
   ],
   "source": [
    "med.describe()"
   ]
  },
  {
   "cell_type": "code",
   "execution_count": 4,
   "id": "753170d8",
   "metadata": {},
   "outputs": [
    {
     "name": "stdout",
     "output_type": "stream",
     "text": [
      "Collecting factor_analyzer\n",
      "  Downloading factor_analyzer-0.4.1.tar.gz (41 kB)\n",
      "\u001b[K     |████████████████████████████████| 41 kB 1.3 MB/s eta 0:00:011\n",
      "\u001b[?25h  Installing build dependencies ... \u001b[?25ldone\n",
      "\u001b[?25h  Getting requirements to build wheel ... \u001b[?25ldone\n",
      "\u001b[?25h    Preparing wheel metadata ... \u001b[?25ldone\n",
      "\u001b[?25hRequirement already satisfied: scipy in /Users/Yunhee/opt/anaconda3/lib/python3.9/site-packages (from factor_analyzer) (1.7.3)\n",
      "Collecting pre-commit\n",
      "  Downloading pre_commit-3.2.2-py2.py3-none-any.whl (202 kB)\n",
      "\u001b[K     |████████████████████████████████| 202 kB 6.5 MB/s eta 0:00:01\n",
      "\u001b[?25hRequirement already satisfied: pandas in /Users/Yunhee/opt/anaconda3/lib/python3.9/site-packages (from factor_analyzer) (1.4.2)\n",
      "Requirement already satisfied: scikit-learn in /Users/Yunhee/opt/anaconda3/lib/python3.9/site-packages (from factor_analyzer) (1.0.2)\n",
      "Requirement already satisfied: numpy in /Users/Yunhee/opt/anaconda3/lib/python3.9/site-packages (from factor_analyzer) (1.21.5)\n",
      "Requirement already satisfied: python-dateutil>=2.8.1 in /Users/Yunhee/opt/anaconda3/lib/python3.9/site-packages (from pandas->factor_analyzer) (2.8.2)\n",
      "Requirement already satisfied: pytz>=2020.1 in /Users/Yunhee/opt/anaconda3/lib/python3.9/site-packages (from pandas->factor_analyzer) (2021.3)\n",
      "Requirement already satisfied: six>=1.5 in /Users/Yunhee/opt/anaconda3/lib/python3.9/site-packages (from python-dateutil>=2.8.1->pandas->factor_analyzer) (1.16.0)\n",
      "Collecting virtualenv>=20.10.0\n",
      "  Downloading virtualenv-20.22.0-py3-none-any.whl (3.2 MB)\n",
      "\u001b[K     |████████████████████████████████| 3.2 MB 19.8 MB/s eta 0:00:01\n",
      "\u001b[?25hRequirement already satisfied: pyyaml>=5.1 in /Users/Yunhee/opt/anaconda3/lib/python3.9/site-packages (from pre-commit->factor_analyzer) (6.0)\n",
      "Collecting identify>=1.0.0\n",
      "  Downloading identify-2.5.22-py2.py3-none-any.whl (98 kB)\n",
      "\u001b[K     |████████████████████████████████| 98 kB 23.8 MB/s eta 0:00:01\n",
      "\u001b[?25hCollecting nodeenv>=0.11.1\n",
      "  Downloading nodeenv-1.7.0-py2.py3-none-any.whl (21 kB)\n",
      "Collecting cfgv>=2.0.0\n",
      "  Downloading cfgv-3.3.1-py2.py3-none-any.whl (7.3 kB)\n",
      "Requirement already satisfied: setuptools in /Users/Yunhee/opt/anaconda3/lib/python3.9/site-packages (from nodeenv>=0.11.1->pre-commit->factor_analyzer) (61.2.0)\n",
      "Collecting distlib<1,>=0.3.6\n",
      "  Downloading distlib-0.3.6-py2.py3-none-any.whl (468 kB)\n",
      "\u001b[K     |████████████████████████████████| 468 kB 21.4 MB/s eta 0:00:01\n",
      "\u001b[?25hCollecting filelock<4,>=3.11\n",
      "  Downloading filelock-3.12.0-py3-none-any.whl (10 kB)\n",
      "Collecting platformdirs<4,>=3.2\n",
      "  Downloading platformdirs-3.2.0-py3-none-any.whl (14 kB)\n",
      "Requirement already satisfied: threadpoolctl>=2.0.0 in /Users/Yunhee/opt/anaconda3/lib/python3.9/site-packages (from scikit-learn->factor_analyzer) (2.2.0)\n",
      "Requirement already satisfied: joblib>=0.11 in /Users/Yunhee/opt/anaconda3/lib/python3.9/site-packages (from scikit-learn->factor_analyzer) (1.1.0)\n",
      "Building wheels for collected packages: factor-analyzer\n",
      "  Building wheel for factor-analyzer (PEP 517) ... \u001b[?25ldone\n",
      "\u001b[?25h  Created wheel for factor-analyzer: filename=factor_analyzer-0.4.1-py2.py3-none-any.whl size=42014 sha256=fc13a2394b6ab3ee681b83593e3c4b9f256f10913e46792451dfb02a5431a82d\n",
      "  Stored in directory: /Users/Yunhee/Library/Caches/pip/wheels/6d/32/bd/460a71becd83f7d77152f437c2fd451f5c87bc19cfcdbfcd24\n",
      "Successfully built factor-analyzer\n",
      "Installing collected packages: platformdirs, filelock, distlib, virtualenv, nodeenv, identify, cfgv, pre-commit, factor-analyzer\n",
      "  Attempting uninstall: filelock\n",
      "    Found existing installation: filelock 3.6.0\n",
      "    Uninstalling filelock-3.6.0:\n",
      "      Successfully uninstalled filelock-3.6.0\n",
      "Successfully installed cfgv-3.3.1 distlib-0.3.6 factor-analyzer-0.4.1 filelock-3.12.0 identify-2.5.22 nodeenv-1.7.0 platformdirs-3.2.0 pre-commit-3.2.2 virtualenv-20.22.0\n",
      "Note: you may need to restart the kernel to use updated packages.\n"
     ]
    }
   ],
   "source": [
    "# pip install factor_analyzer"
   ]
  },
  {
   "cell_type": "code",
   "execution_count": 5,
   "id": "e08d0b5a",
   "metadata": {},
   "outputs": [
    {
     "data": {
      "text/plain": [
       "0.6874111268378432"
      ]
     },
     "execution_count": 5,
     "metadata": {},
     "output_type": "execute_result"
    }
   ],
   "source": [
    "from factor_analyzer.factor_analyzer import calculate_kmo\n",
    "kmo_all, kmo_model = calculate_kmo(med)\n",
    "kmo_model"
   ]
  },
  {
   "cell_type": "code",
   "execution_count": 6,
   "id": "9947e53a",
   "metadata": {},
   "outputs": [
    {
     "data": {
      "text/plain": [
       "FactorAnalyzer(rotation=None, rotation_kwargs={})"
      ]
     },
     "execution_count": 6,
     "metadata": {},
     "output_type": "execute_result"
    }
   ],
   "source": [
    "# 초기 인자분석 시행\n",
    "from factor_analyzer import FactorAnalyzer\n",
    "fa = FactorAnalyzer(rotation = None)\n",
    "fa.fit(med)"
   ]
  },
  {
   "cell_type": "code",
   "execution_count": 7,
   "id": "d1451399",
   "metadata": {},
   "outputs": [
    {
     "data": {
      "text/plain": [
       "array([3.37918137, 1.48277065, 1.25063015, 0.98047706, 0.7688022 ,\n",
       "       0.73305114, 0.64039936, 0.62219335, 0.52837181, 0.35193006,\n",
       "       0.26219284])"
      ]
     },
     "execution_count": 7,
     "metadata": {},
     "output_type": "execute_result"
    }
   ],
   "source": [
    "# 고윳값 구하기\n",
    "ev, v = fa.get_eigenvalues()\n",
    "ev"
   ]
  },
  {
   "cell_type": "code",
   "execution_count": 8,
   "id": "f53b0f60",
   "metadata": {},
   "outputs": [
    {
     "data": {
      "text/plain": [
       "FactorAnalyzer(method='principal', rotation='varimax', rotation_kwargs={})"
      ]
     },
     "execution_count": 8,
     "metadata": {},
     "output_type": "execute_result"
    }
   ],
   "source": [
    "# 인자수를 3으로한 인자분석 - 인자회전 Varimax\n",
    "fa_varimax = FactorAnalyzer(n_factors = 3, rotation = 'varimax', method = 'principal')\n",
    "# method = 'minres', 'ml', 'principal'\n",
    "fa_varimax.fit(med)"
   ]
  },
  {
   "cell_type": "code",
   "execution_count": 10,
   "id": "90a2f3cb",
   "metadata": {},
   "outputs": [
    {
     "data": {
      "text/plain": [
       "array([[ 0.659,  0.123,  0.16 ],\n",
       "       [ 0.111, -0.086,  0.785],\n",
       "       [ 0.783,  0.127,  0.17 ],\n",
       "       [ 0.185,  0.285,  0.763],\n",
       "       [ 0.731,  0.23 , -0.135],\n",
       "       [ 0.646, -0.107,  0.185],\n",
       "       [ 0.486,  0.48 ,  0.102],\n",
       "       [ 0.016,  0.62 ,  0.289],\n",
       "       [ 0.18 ,  0.652,  0.336],\n",
       "       [ 0.264,  0.699, -0.04 ],\n",
       "       [-0.066,  0.649, -0.277]])"
      ]
     },
     "execution_count": 10,
     "metadata": {},
     "output_type": "execute_result"
    }
   ],
   "source": [
    "# 인자적재 계수\n",
    "import numpy as np\n",
    "np.round(fa_varimax.loadings_, 3)"
   ]
  },
  {
   "cell_type": "code",
   "execution_count": 11,
   "id": "374e4c6c",
   "metadata": {},
   "outputs": [
    {
     "data": {
      "text/plain": [
       "array([0.475, 0.636, 0.658, 0.698, 0.606, 0.463, 0.478, 0.468, 0.57 ,\n",
       "       0.56 , 0.502])"
      ]
     },
     "execution_count": 11,
     "metadata": {},
     "output_type": "execute_result"
    }
   ],
   "source": [
    "# 인자 공통성\n",
    "np.round(fa_varimax.get_communalities(), 3)"
   ]
  }
 ],
 "metadata": {
  "kernelspec": {
   "display_name": "Python 3 (ipykernel)",
   "language": "python",
   "name": "python3"
  },
  "language_info": {
   "codemirror_mode": {
    "name": "ipython",
    "version": 3
   },
   "file_extension": ".py",
   "mimetype": "text/x-python",
   "name": "python",
   "nbconvert_exporter": "python",
   "pygments_lexer": "ipython3",
   "version": "3.9.12"
  }
 },
 "nbformat": 4,
 "nbformat_minor": 5
}
