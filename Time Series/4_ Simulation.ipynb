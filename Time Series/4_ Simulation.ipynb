{
 "cells": [
  {
   "cell_type": "markdown",
   "metadata": {},
   "source": [
    "누군가의 이메일 열람 행동이 기부로 이어지는지 가설 검정을 위한 합성 데이터 시뮬레이션"
   ]
  },
  {
   "cell_type": "code",
   "execution_count": 5,
   "metadata": {},
   "outputs": [],
   "source": [
    "import numpy as np\n",
    "import pandas as pd"
   ]
  },
  {
   "cell_type": "code",
   "execution_count": 8,
   "metadata": {},
   "outputs": [
    {
     "data": {
      "text/html": [
       "<div>\n",
       "<style scoped>\n",
       "    .dataframe tbody tr th:only-of-type {\n",
       "        vertical-align: middle;\n",
       "    }\n",
       "\n",
       "    .dataframe tbody tr th {\n",
       "        vertical-align: top;\n",
       "    }\n",
       "\n",
       "    .dataframe thead th {\n",
       "        text-align: right;\n",
       "    }\n",
       "</style>\n",
       "<table border=\"1\" class=\"dataframe\">\n",
       "  <thead>\n",
       "    <tr style=\"text-align: right;\">\n",
       "      <th></th>\n",
       "      <th>yearJoined</th>\n",
       "      <th>memberStatus</th>\n",
       "    </tr>\n",
       "  </thead>\n",
       "  <tbody>\n",
       "    <tr>\n",
       "      <th>0</th>\n",
       "      <td>2018</td>\n",
       "      <td>silver</td>\n",
       "    </tr>\n",
       "    <tr>\n",
       "      <th>1</th>\n",
       "      <td>2018</td>\n",
       "      <td>silver</td>\n",
       "    </tr>\n",
       "    <tr>\n",
       "      <th>2</th>\n",
       "      <td>2017</td>\n",
       "      <td>inactive</td>\n",
       "    </tr>\n",
       "    <tr>\n",
       "      <th>3</th>\n",
       "      <td>2018</td>\n",
       "      <td>gold</td>\n",
       "    </tr>\n",
       "    <tr>\n",
       "      <th>4</th>\n",
       "      <td>2014</td>\n",
       "      <td>inactive</td>\n",
       "    </tr>\n",
       "    <tr>\n",
       "      <th>...</th>\n",
       "      <td>...</td>\n",
       "      <td>...</td>\n",
       "    </tr>\n",
       "    <tr>\n",
       "      <th>995</th>\n",
       "      <td>2018</td>\n",
       "      <td>silver</td>\n",
       "    </tr>\n",
       "    <tr>\n",
       "      <th>996</th>\n",
       "      <td>2015</td>\n",
       "      <td>silver</td>\n",
       "    </tr>\n",
       "    <tr>\n",
       "      <th>997</th>\n",
       "      <td>2018</td>\n",
       "      <td>gold</td>\n",
       "    </tr>\n",
       "    <tr>\n",
       "      <th>998</th>\n",
       "      <td>2018</td>\n",
       "      <td>inactive</td>\n",
       "    </tr>\n",
       "    <tr>\n",
       "      <th>999</th>\n",
       "      <td>2016</td>\n",
       "      <td>silver</td>\n",
       "    </tr>\n",
       "  </tbody>\n",
       "</table>\n",
       "<p>1000 rows × 2 columns</p>\n",
       "</div>"
      ],
      "text/plain": [
       "    yearJoined memberStatus\n",
       "0         2018       silver\n",
       "1         2018       silver\n",
       "2         2017     inactive\n",
       "3         2018         gold\n",
       "4         2014     inactive\n",
       "..         ...          ...\n",
       "995       2018       silver\n",
       "996       2015       silver\n",
       "997       2018         gold\n",
       "998       2018     inactive\n",
       "999       2016       silver\n",
       "\n",
       "[1000 rows x 2 columns]"
      ]
     },
     "execution_count": 8,
     "metadata": {},
     "output_type": "execute_result"
    }
   ],
   "source": [
    "# 회원 상태\n",
    "years = ['2014', '2015', '2016', '2017', '2018']\n",
    "memberStatus = ['bronze', 'silver', 'gold', 'inactive']\n",
    "\n",
    "# np.random.choice의 p인수 조절 > 각 부류의 발생확률을 달리하여 데이터 생성\n",
    "memberYears = np.random.choice(years, 1000, p=[0.1, 0.1, 0.15, 0.30, 0.35])\n",
    "memberStats = np.random.choice(memberStatus, 1000, p=[0.5, 0.3, 0.1, 0.1])\n",
    "yearJoined = pd.DataFrame({'yearJoined':memberYears,\n",
    "                           'memberStatus' : memberStats})\n",
    "\n",
    "yearJoined"
   ]
  },
  {
   "cell_type": "markdown",
   "metadata": {},
   "source": [
    "주별 회원의 이메일 열람 시점을 나타내는 테이블 만들기 위한 행동 패턴 정의 :\n",
    "* 이메일을 열람한 적이 없음\n",
    "* 일정한 수준의 이메일 열람 및 참여율\n",
    "* 참여 수준의 증가 또는 감소"
   ]
  },
  {
   "cell_type": "code",
   "execution_count": 7,
   "metadata": {},
   "outputs": [],
   "source": [
    "NUM_EMAILS_SENT_WEEKLY = 3\n",
    "\n",
    "# 이메일을 한 번도 열람하지 않은 회원\n",
    "def never_opens(period_rng) :\n",
    "    return []\n",
    "\n",
    "# 매주 같은 양의 이메일을 열람한 회원\n",
    "def constant_open_rate(period_rng) :\n",
    "    n, p = NUM_EMAILS_SENT_WEEKLY, np.random.uniform(0, 1)\n",
    "    num_opened = np.random.binomial(n, p, len(period_rng))\n",
    "    return num_opened\n",
    "\n",
    "# 매주 열람한 이메일의 양이 늘어나는 회원\n",
    "def increasing_open_rate(period_rng) :\n",
    "    return open_rate_with_factor_change(period_rng, np.random.uniform(1.01, 1.30))\n",
    "\n",
    "# 매주 열람한 이메일의 양이 줄어드는 회원\n",
    "def decreasing_open_rate(period_rng) :\n",
    "    return open_rate_with_factor_change(period_rng, np.random.uniform(0.5, 0.99))\n",
    "\n",
    "def open_rate_with_factor_change(period_rng, fac) :\n",
    "    if len(period_rng) < 1 :\n",
    "        return []\n",
    "    times = np.random.randint(0, len(period_rng), int(0.1 * len(period_rng)))\n",
    "    num_opened = np.zeros(len(period_rng))\n",
    "    for prd in range(0, len(period_rng), 2) :\n",
    "        try :\n",
    "            n, p = NUM_EMAILS_SENT_WEEKLY, np.random.uniform(0, 1)\n",
    "            num_opened[prd:(prd+2)] = np.random.binomial(n, p, 2)\n",
    "            p = max(min(1, p*fac), 0)\n",
    "        except :\n",
    "            num_opened[prd] = np.random.binomial(n, p, 1)\n",
    "    for t in range(len(times)) :\n",
    "        num_opened[times[t]] = 0\n",
    "    return num_opened"
   ]
  },
  {
   "cell_type": "markdown",
   "metadata": {},
   "source": [
    "기부 행동 모델링 시스템 :\n",
    "* 열람 횟수에 따른 기부 행동을 느슨하게 연결\n",
    "* 회원 자격의 기간에 따라 기부의 전체 횟수 지정\n",
    "* 회원별 재정상태 정의"
   ]
  },
  {
   "cell_type": "code",
   "execution_count": 9,
   "metadata": {},
   "outputs": [],
   "source": [
    "## 기부 행동\n",
    "def produce_donations(period_rng, member_behavior, num_emails, \n",
    "                      use_id, member_join_year):\n",
    "    donation_amounts = np.array([0, 25, 50, 75, 100, 250, 500, \n",
    "                                 1000, 1500, 2000])\n",
    "    member_has = np.random.choice(donation_amounts)\n",
    "    email_fraction = num_emails / (NUM_EMAILS_SENT_WEEKLY * len(period_rng)) \n",
    "    member_gives = member_has * email_fraction\n",
    "    member_gives_idx = np.where(member_gives >= donation_amounts)[0][-1]\n",
    "    member_gives_idx = max(min(member_gives_idx,\n",
    "                               len(donation_amounts) - 2),\n",
    "                           1)\n",
    "    num_times_gave = np.random.poisson(2) * (2018 - member_join_year)\n",
    "    times = np.random.randint(0, len(period_rng), num_times_gave)\n",
    "    dons = pd.DataFrame({'member'   : [],\n",
    "                         'amount'   : [],\n",
    "                         'timestamp': []})\n",
    "    for n in range(num_times_gave):\n",
    "        donation = donation_amounts[member_gives_idx + np.random.binomial(1, .3)]\n",
    "        ts = str(period_rng[times[n]].start_time + random_weekly_time_delta())\n",
    "        dons = dons.append(pd.DataFrame(\n",
    "                  {'member' :[use_id],\n",
    "                   'amount' :[donation],\n",
    "                   'timestamp': [ts]}))\n",
    "\n",
    "        if dons.shape[0] > 0:\n",
    "            dons = dons[dons.amount != 0]\n",
    "            ## we don't report zero donation events as this would not\n",
    "            ## be recorded in a real world database \n",
    "            ## 기부액이 0인 경우에는 보고하지 않습니다.\n",
    "            ## 실세계에서 다룰 때 이러한 정보는 데이터베이스에 반영되지 않습니다.\n",
    "    \n",
    "            return dons"
   ]
  },
  {
   "cell_type": "code",
   "execution_count": 12,
   "metadata": {},
   "outputs": [],
   "source": [
    "def random_weekly_time_delta():\n",
    "    days_of_week = [d for d in range(7)]\n",
    "    hours_of_day = [h for h in range(11, 23)] \n",
    "    minute_of_hour = [m for m in range(60)] \n",
    "    second_of_minute = [s for s in range(60)]\n",
    "    return pd.Timedelta(str(np.random.choice(days_of_week)) + \" days\" ) + pd.Timedelta(str(np.random.choice(hours_of_day)) + \" hours\" ) + pd.Timedelta(str(np.random.choice(minute_of_hour)) + \" minutes\") + pd.Timedelta(str(np.random.choice(second_of_minute)) + \" seconds\") "
   ]
  },
  {
   "cell_type": "code",
   "execution_count": 20,
   "metadata": {},
   "outputs": [],
   "source": [
    "behaviors        = [never_opens, \n",
    "                    constant_open_rate, \n",
    "                    increasing_open_rate, \n",
    "                    decreasing_open_rate] \n",
    "member_behaviors = np.random.choice(behaviors, 1000,\n",
    "                                    [0.2, 0.5, 0.1, 0.2]) \n",
    "\n",
    "rng = pd.period_range('2015-02-14', '2018-06-01', freq = 'W')\n",
    "emails = pd.DataFrame({'member'      : [],\n",
    "                       'week'        : [],\n",
    "                       'emailsOpened': []})\t\n",
    "donations = pd.DataFrame({'member'   : [],\n",
    "                          'amount'   : [],\n",
    "                          'tunestamp': []})\t\n",
    "\n",
    "for idx in range(yearJoined.shape[0]):\n",
    "    ## randomly generate the date when a member would have joined\n",
    "    ## 회원이 가입한 시기를 무작위로 생성합니다\n",
    "    join_date = pd.Timestamp(yearJoined.iloc[idx].yearJoined) + pd.Timedelta(str(np.random.randint(0, 365)) + ' days')\n",
    "    join_date = min(join_date, pd.Timestamp('2018-06-01')).to_period(freq='W')\n",
    "\n",
    "    ## member should not have action timestamps before joining\n",
    "    ## 가입 전 어떤 행동에 대한 타임스탬프도 가져서는 안됩니다\n",
    "    member_rng = rng[rng > join_date] \n",
    "\n",
    "    if len(member_rng) < 1:\n",
    "        continue\n",
    "\n",
    "    info = member_behaviors[idx](member_rng) \n",
    "    if len(info) == len(member_rng):\n",
    "        emails = emails.append(pd.DataFrame(\n",
    "           {'member': [idx] * len(info),\n",
    "            'week': [str(r.start_time) for r in member_rng],\n",
    "            'emailsOpened': info})) \n",
    "        donations = donations.append(\n",
    "           produce_donations(member_rng, member_behaviors[idx], \n",
    "                                sum(info), idx, join_date.year)) "
   ]
  },
  {
   "cell_type": "code",
   "execution_count": 15,
   "metadata": {},
   "outputs": [
    {
     "data": {
      "text/plain": [
       "PeriodIndex(['2015-02-09/2015-02-15', '2015-02-16/2015-02-22',\n",
       "             '2015-02-23/2015-03-01', '2015-03-02/2015-03-08',\n",
       "             '2015-03-09/2015-03-15', '2015-03-16/2015-03-22',\n",
       "             '2015-03-23/2015-03-29', '2015-03-30/2015-04-05',\n",
       "             '2015-04-06/2015-04-12', '2015-04-13/2015-04-19',\n",
       "             ...\n",
       "             '2018-03-26/2018-04-01', '2018-04-02/2018-04-08',\n",
       "             '2018-04-09/2018-04-15', '2018-04-16/2018-04-22',\n",
       "             '2018-04-23/2018-04-29', '2018-04-30/2018-05-06',\n",
       "             '2018-05-07/2018-05-13', '2018-05-14/2018-05-20',\n",
       "             '2018-05-21/2018-05-27', '2018-05-28/2018-06-03'],\n",
       "            dtype='period[W-SUN]', length=173, freq='W-SUN')"
      ]
     },
     "execution_count": 15,
     "metadata": {},
     "output_type": "execute_result"
    }
   ],
   "source": [
    "rng = pd.period_range('2015-02-14', '2018-06-01', freq = 'W')\n",
    "rng"
   ]
  },
  {
   "cell_type": "code",
   "execution_count": 21,
   "metadata": {},
   "outputs": [
    {
     "data": {
      "text/plain": [
       "<AxesSubplot:xlabel='timestamp'>"
      ]
     },
     "execution_count": 21,
     "metadata": {},
     "output_type": "execute_result"
    },
    {
     "data": {
      "image/png": "[encoded data removed]",
      "text/plain": [
       "<Figure size 432x288 with 1 Axes>"
      ]
     },
     "metadata": {
      "needs_background": "light"
     },
     "output_type": "display_data"
    }
   ],
   "source": [
    "donations.set_index(pd.to_datetime(donations.timestamp), inplace = True) \n",
    "donations.sort_index(inplace = True)\n",
    "donations.groupby(pd.Grouper(freq='M')).amount.sum().plot() "
   ]
  },
  {
   "cell_type": "code",
   "execution_count": null,
   "metadata": {},
   "outputs": [],
   "source": []
  }
 ],
 "metadata": {
  "kernelspec": {
   "display_name": "Python 3",
   "language": "python",
   "name": "python3"
  },
  "language_info": {
   "codemirror_mode": {
    "name": "ipython",
    "version": 3
   },
   "file_extension": ".py",
   "mimetype": "text/x-python",
   "name": "python",
   "nbconvert_exporter": "python",
   "pygments_lexer": "ipython3",
   "version": "3.8.5"
  }
 },
 "nbformat": 4,
 "nbformat_minor": 4
}
